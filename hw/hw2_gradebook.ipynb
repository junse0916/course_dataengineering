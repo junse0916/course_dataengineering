{
 "cells": [
  {
   "cell_type": "code",
   "execution_count": 108,
   "id": "c9b538e9-749e-43a4-ba4b-be3160e83280",
   "metadata": {},
   "outputs": [
    {
     "name": "stdout",
     "output_type": "stream",
     "text": [
      "[['physics', 98], ['calculus', 97], ['poetry', 85], ['history', 88]]\n",
      "[['physics', 98], ['calculus', 97], ['poetry', 85], ['history', 88], ['computer science', 100], ['visual arts', 93]]\n",
      "[['physics', 98], ['calculus', 97], ['poetry', 'pass'], ['history', 88], ['computer science', 100], ['visual arts', 98]]\n",
      "[['politics', 80], ['latin', 96], ['dance', 97], ['architecture', 65], ['physics', 98], ['calculus', 97], ['poetry', 'pass'], ['history', 88], ['computer science', 100], ['visual arts', 98]]\n"
     ]
    }
   ],
   "source": [
    "subjects = ['physics','calculus','poetry','history']\n",
    "grades = [98,97,85,88]\n",
    "gradebook = [['physics', 98], ['calculus', 97], ['poetry', 85], ['history', 88]]\n",
    "print (gradebook)\n",
    "\n",
    "gradebook.append(['computer science', 100])\n",
    "gradebook.append(['visual arts', 93])\n",
    "print (gradebook)\n",
    "\n",
    "gradebook[5][1] += 5\n",
    "gradebook.remove(['poetry',85])\n",
    "gradebook.insert(2,['poetry', 'pass'])\n",
    "print(gradebook)\n",
    "\n",
    "last_semester_gradebook = [[\"politics\", 80], [\"latin\", 96], [\"dance\", 97], [\"architecture\", 65]]\n",
    "full_gradebook = last_semester_gradebook + gradebook\n",
    "print (full_gradebook)"
   ]
  },
  {
   "cell_type": "code",
   "execution_count": null,
   "id": "a3f0e879-6681-44b7-a960-1061996e19c5",
   "metadata": {},
   "outputs": [],
   "source": []
  }
 ],
 "metadata": {
  "kernelspec": {
   "display_name": "Python 3",
   "language": "python",
   "name": "python3"
  },
  "language_info": {
   "codemirror_mode": {
    "name": "ipython",
    "version": 3
   },
   "file_extension": ".py",
   "mimetype": "text/x-python",
   "name": "python",
   "nbconvert_exporter": "python",
   "pygments_lexer": "ipython3",
   "version": "3.8.8"
  }
 },
 "nbformat": 4,
 "nbformat_minor": 5
}
