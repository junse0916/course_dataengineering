{
 "cells": [
  {
   "cell_type": "code",
   "execution_count": 8,
   "id": "6ab9e34f-ee33-4005-8dfa-ab313f710220",
   "metadata": {},
   "outputs": [
    {
     "name": "stdout",
     "output_type": "stream",
     "text": [
      "당신의 조선시대 이름은 전칠질 입니다.\n"
     ]
    }
   ],
   "source": [
    "first_name = ['쌍', '쇠', '복', '돌', '팽', '육', '쌍', '개', '칠', '갑', '삼', '방']\n",
    "last_name = ['봉', '구', '욕', '포', '똥', '삼', '식', '석', '놈', '님', '년', '돌', '단', '득', '방', '질', '장', '걸', '래', '룡', '동', '순', '자', '박', '창', '언', '것', '포', '만', '단', '국']\n",
    "\n",
    "def get_my_chosun_name(family_name, month, day):\n",
    "    a = first_name[month - 1]\n",
    "    b = last_name [day - 1]\n",
    "    print(\"당신의 조선시대 이름은 %s 입니다.\"%(family_name+a+b))\n",
    "    \n",
    "get_my_chosun_name('전',9,16)\n",
    "\n",
    "\n"
   ]
  },
  {
   "cell_type": "code",
   "execution_count": null,
   "id": "2560758a-e1cf-4fd1-b8c8-2cb69c9efc89",
   "metadata": {},
   "outputs": [],
   "source": []
  }
 ],
 "metadata": {
  "kernelspec": {
   "display_name": "Python 3",
   "language": "python",
   "name": "python3"
  },
  "language_info": {
   "codemirror_mode": {
    "name": "ipython",
    "version": 3
   },
   "file_extension": ".py",
   "mimetype": "text/x-python",
   "name": "python",
   "nbconvert_exporter": "python",
   "pygments_lexer": "ipython3",
   "version": "3.8.8"
  }
 },
 "nbformat": 4,
 "nbformat_minor": 5
}
