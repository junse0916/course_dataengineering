{
 "cells": [
  {
   "cell_type": "code",
   "execution_count": 1,
   "id": "a8739885-cf8c-4352-a0e3-951dfb43a2e7",
   "metadata": {},
   "outputs": [],
   "source": [
    "import numpy as np"
   ]
  },
  {
   "cell_type": "code",
   "execution_count": 5,
   "id": "593d89f4-267a-4e59-9939-886a8ed4e749",
   "metadata": {},
   "outputs": [
    {
     "name": "stdout",
     "output_type": "stream",
     "text": [
      "[[1. 1. 1.]\n",
      " [1. 1. 1.]\n",
      " [1. 1. 1.]]\n",
      "[0 1 2]\n",
      "[[1. 2. 3.]\n",
      " [1. 2. 3.]\n",
      " [1. 2. 3.]]\n"
     ]
    }
   ],
   "source": [
    "\"\"\"\n",
    "broadcasting\n",
    "\"\"\"\n",
    "#1D array + 2D array\n",
    "\n",
    "x = np.ones((3,3))\n",
    "print(x)\n",
    "y = np.arange(3)\n",
    "print(y)\n",
    "print(x+y)"
   ]
  },
  {
   "cell_type": "code",
   "execution_count": 7,
   "id": "50a82fe3-8c18-487d-909b-c1f8e0e8072b",
   "metadata": {},
   "outputs": [
    {
     "name": "stdout",
     "output_type": "stream",
     "text": [
      "[0 1 2]\n",
      "[[0]\n",
      " [1]\n",
      " [2]]\n",
      "[[0 1 2]\n",
      " [1 2 3]\n",
      " [2 3 4]]\n"
     ]
    }
   ],
   "source": [
    "#broadcast both arrays\n",
    "a = np.arange(3)\n",
    "print(a)\n",
    "a = a[:,np.newaxis]\n",
    "print(a)\n",
    "b = np.arange(3)\n",
    "\n",
    "print(a+b)"
   ]
  },
  {
   "cell_type": "code",
   "execution_count": 13,
   "id": "81f6dc0b-72de-4f25-bcfc-44442833f8f0",
   "metadata": {},
   "outputs": [
    {
     "name": "stdout",
     "output_type": "stream",
     "text": [
      "[[1. 2. 3.]\n",
      " [1. 2. 3.]] \n",
      "\n",
      "[[0 1 2]\n",
      " [1 2 3]\n",
      " [2 3 4]] /n\n"
     ]
    }
   ],
   "source": [
    "\"\"\"\n",
    "broadcasting rules \n",
    "\"\"\"\n",
    "#1d array + 2d array\n",
    "a = np.ones((2,3))\n",
    "b = np.arange(3)\n",
    "\n",
    "print(a+b,'\\n')\n",
    "\n",
    "#broadcasting both arrays\n",
    "c = np.arange(3)\n",
    "c = c.reshape((3,1))\n",
    "d = np.arange(3)\n",
    "\n",
    "print(c+d,'\\n')\n",
    "\n",
    "#incompatible case\n",
    "#a= np.ones((3,2))\n",
    "#b= np.arange(3)\n",
    "# 이 경우 규칙2 적용 불가능함 -> 오류 "
   ]
  },
  {
   "cell_type": "code",
   "execution_count": 14,
   "id": "e6544efe-4a36-4948-bdce-7c62073147c0",
   "metadata": {},
   "outputs": [
    {
     "name": "stdout",
     "output_type": "stream",
     "text": [
      "[1 2 3 4 5]\n",
      "[ True  True False False False]\n",
      "[False False  True  True  True]\n",
      "[ True  True False  True  True]\n",
      "[False False  True False False]\n"
     ]
    }
   ],
   "source": [
    "#recap :comparison operators\n",
    "x = np.array([1,2,3,4,5])\n",
    "print(x)\n",
    "\n",
    "print(x<3)\n",
    "print(x>=3)\n",
    "print(x!=3)\n",
    "print(x==3)"
   ]
  },
  {
   "cell_type": "code",
   "execution_count": 16,
   "id": "cc53f69e-97ca-4b21-a27e-5e701611f863",
   "metadata": {},
   "outputs": [
    {
     "name": "stdout",
     "output_type": "stream",
     "text": [
      "[[5 0 3 3]\n",
      " [7 9 3 5]\n",
      " [2 4 7 6]]\n"
     ]
    },
    {
     "data": {
      "text/plain": [
       "array([[ True,  True,  True,  True],\n",
       "       [False, False,  True,  True],\n",
       "       [ True,  True, False, False]])"
      ]
     },
     "execution_count": 16,
     "metadata": {},
     "output_type": "execute_result"
    }
   ],
   "source": [
    "#ufuns for comparison operations\n",
    "np.random.seed(0)\n",
    "x = np.random.randint(10, size=(3,4))\n",
    "print(x)\n",
    "x<6"
   ]
  },
  {
   "cell_type": "code",
   "execution_count": 19,
   "id": "13b1033f-0f55-44ff-bee5-da5918e769fe",
   "metadata": {},
   "outputs": [
    {
     "name": "stdout",
     "output_type": "stream",
     "text": [
      "8\n",
      "8\n",
      "True\n",
      "False\n"
     ]
    }
   ],
   "source": [
    "#boolean logic\n",
    "#boolean 의 정수표현 : true =1, false=0\n",
    "print(np.count_nonzero(x<6))\n",
    "print(np.sum(x<6))\n",
    "\n",
    "print(np.any(x>8))\n",
    "print(np.all(x>1))"
   ]
  },
  {
   "cell_type": "code",
   "execution_count": 20,
   "id": "429325cb-bbef-4cca-8ae3-d0df731c2df2",
   "metadata": {},
   "outputs": [
    {
     "name": "stdout",
     "output_type": "stream",
     "text": [
      "[[False  True  True  True]\n",
      " [False False  True False]\n",
      " [ True  True False False]]\n",
      "[0 3 3 3 2 4]\n"
     ]
    }
   ],
   "source": [
    "#masking operation \n",
    "print(x<5)\n",
    "\n",
    "print(x[x<5])"
   ]
  },
  {
   "cell_type": "code",
   "execution_count": 22,
   "id": "67729642-146f-4ded-bc9b-3678a5d02e6f",
   "metadata": {},
   "outputs": [
    {
     "name": "stdout",
     "output_type": "stream",
     "text": [
      "[64 67 83]\n"
     ]
    }
   ],
   "source": [
    "#fancy indexing \n",
    "np.random.seed(0)\n",
    "x= np.random.randint(100, size =10)\n",
    "ind = [2,4,6]\n",
    "print(x[ind])"
   ]
  },
  {
   "cell_type": "code",
   "execution_count": 24,
   "id": "6c539645-318b-4313-813b-72713799b1ac",
   "metadata": {},
   "outputs": [
    {
     "name": "stdout",
     "output_type": "stream",
     "text": [
      "[[5 0 3 3 7]\n",
      " [9 3 5 2 4]\n",
      " [7 6 8 8 1]]\n"
     ]
    },
    {
     "data": {
      "text/plain": [
       "array([[3, 0, 7],\n",
       "       [5, 3, 4],\n",
       "       [8, 6, 1]])"
      ]
     },
     "execution_count": 24,
     "metadata": {},
     "output_type": "execute_result"
    }
   ],
   "source": [
    "np.random.seed(0)\n",
    "x=np.random.randint(10, size =15).reshape(3,5)\n",
    "print(x)\n",
    "row = [0,1,2]\n",
    "col = [2,1,4]\n",
    "x[row,col]\n",
    "\n",
    "row = np.array([0,1,2])\n",
    "col = np.array([2,1,4])\n",
    "x[row[:, np.newaxis], col]"
   ]
  },
  {
   "cell_type": "code",
   "execution_count": 25,
   "id": "c9025612-22b7-4aaf-9ca8-cb2807f237d2",
   "metadata": {},
   "outputs": [
    {
     "name": "stdout",
     "output_type": "stream",
     "text": [
      "[11  9 10]\n",
      "[[11  9 10]]\n"
     ]
    }
   ],
   "source": [
    "#combined indexing\n",
    "x = np.arange(1,13).reshape(3,4)\n",
    "#기본 인덱싱 + 팬시 인덱싱\n",
    "print(x[2,[2,0,1]])\n",
    "#슬라이싱 + 팬시 인덱싱\n",
    "print(x[2:, [2,0,1]])\n"
   ]
  },
  {
   "cell_type": "code",
   "execution_count": 29,
   "id": "52273bf1-e9bd-45ef-94d3-41dac1438415",
   "metadata": {},
   "outputs": [
    {
     "name": "stdout",
     "output_type": "stream",
     "text": [
      "[[ 1  2  3  4]\n",
      " [ 5  6  7  8]\n",
      " [ 9 10 11 12]]\n",
      "(3, 4)\n"
     ]
    }
   ],
   "source": [
    "\"\"\"\n",
    "Exercise) Selecting random points\n",
    "\"\"\"\n",
    "mean = [0,0]\n",
    "cov = [[1,2],\n",
    "      [2,5]]\n",
    "rand = np.random.RandomState(1)\n",
    "rand.multivariate_normal(mean, cov, 100)\n",
    "print(x)\n",
    "print(x.shape)"
   ]
  }
 ],
 "metadata": {
  "kernelspec": {
   "display_name": "Python 3",
   "language": "python",
   "name": "python3"
  },
  "language_info": {
   "codemirror_mode": {
    "name": "ipython",
    "version": 3
   },
   "file_extension": ".py",
   "mimetype": "text/x-python",
   "name": "python",
   "nbconvert_exporter": "python",
   "pygments_lexer": "ipython3",
   "version": "3.8.8"
  }
 },
 "nbformat": 4,
 "nbformat_minor": 5
}
