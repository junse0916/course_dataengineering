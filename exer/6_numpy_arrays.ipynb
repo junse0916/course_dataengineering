{
 "cells": [
  {
   "cell_type": "code",
   "execution_count": 1,
   "id": "e5675d9b-2cad-44d6-93d1-b135770de616",
   "metadata": {},
   "outputs": [],
   "source": [
    "import numpy as np\n",
    "import pandas as pd\n",
    "from matplotlib import pyplot as plt"
   ]
  },
  {
   "cell_type": "code",
   "execution_count": 5,
   "id": "d1694b38-8c52-41fd-87c5-34fb7c603346",
   "metadata": {},
   "outputs": [
    {
     "name": "stdout",
     "output_type": "stream",
     "text": [
      "[ 1  2  3  4 55 66 77 77]\n",
      "[      4       3     424 3433434]\n"
     ]
    }
   ],
   "source": [
    "#creating a numpy array \n",
    "lst = [1,2,3,4,55,66,77,77]\n",
    "arr = np.array(lst)\n",
    "print(arr)\n",
    "\n",
    "my_array = np.array([4,3,424,3433434])\n",
    "print(my_array)"
   ]
  },
  {
   "cell_type": "code",
   "execution_count": 6,
   "id": "d66279b9-c910-442e-b545-2c865f70465e",
   "metadata": {},
   "outputs": [
    {
     "name": "stdout",
     "output_type": "stream",
     "text": [
      "64\n",
      "108\n"
     ]
    }
   ],
   "source": [
    "\"\"\"\n",
    "size comparsion of ndarray and list objects \n",
    "\"\"\"\n",
    "\n",
    "from sys import getsizeof\n",
    "\n",
    "lst= [1]\n",
    "print(getsizeof(lst)) # 56 -> 64: int + object meta info.\n",
    "\n",
    "arr= np.array(lst)\n",
    "print(getsizeof(arr)) # 96 -> 100: int(4bytes)"
   ]
  },
  {
   "cell_type": "code",
   "execution_count": 20,
   "id": "da318929-6963-47d6-aa4f-f86db5d50816",
   "metadata": {},
   "outputs": [
    {
     "name": "stdout",
     "output_type": "stream",
     "text": [
      "[89 87 74 92 94]\n",
      "[260 281 248 276 272]\n",
      "[86.66666667 93.66666667 82.66666667 92.         90.66666667]\n",
      "93\n",
      "[94 88]\n",
      "[[ 92  94  88  91  87]\n",
      " [ 79 100  86  93  91]\n",
      " [ 87  85  72  90  92]]\n",
      "87\n",
      "[87 91 92]\n"
     ]
    }
   ],
   "source": [
    "\"\"\" \n",
    "exercise : test score\n",
    "\"\"\"\n",
    "test_1 = np.array([92,94,88,91,87])\n",
    "test_2 = np.array([79,100,86,93,91])\n",
    "test_3 = np.array([87,85,72,90,92])\n",
    "\n",
    "test_3_fixed = test_3 + 2\n",
    "print(test_3_fixed)\n",
    "\n",
    "total_grade = test_1 + test_2 + test_3_fixed\n",
    "print(total_grade)\n",
    "\n",
    "final_grade = total_grade / 3\n",
    "print(final_grade)\n",
    "\n",
    "jeremy_test_2 = test_2[3]\n",
    "print(jeremy_test_2)\n",
    "\n",
    "manual_adwoa_test_1 = np.array([test_1[1],test_1[2]])\n",
    "print(manual_adwoa_test_1)\n",
    "\n",
    "student_scores = np.array([test_1,test_2,test_3])\n",
    "print(student_scores)\n",
    "\n",
    "print(student_scores[2,0])\n",
    "\n",
    "print(student_scores[:,4])  # 4 -> -1 도 가능하다. -1은 리스트 뒤에서부터 불러옴 "
   ]
  },
  {
   "cell_type": "code",
   "execution_count": 25,
   "id": "d7e93788-f12f-4870-ae56-985c8a9dbaf5",
   "metadata": {},
   "outputs": [
    {
     "name": "stdout",
     "output_type": "stream",
     "text": [
      "[ True False False False False  True  True  True  True  True  True  True]\n",
      "[10  6  7  8  9  9  7 11]\n",
      "[10  2  2  6  7  8  9  9  7 11]\n",
      "[7 8 7]\n"
     ]
    }
   ],
   "source": [
    "\"\"\"\n",
    "logical operations with array\n",
    "\"\"\"\n",
    "#원소별로 논리식에 대한 bool값을 계산\n",
    "a= np.array([10,2,2,4,5,6,7,8,9,9,7,11])\n",
    "mask = a>5 \n",
    "print(mask)\n",
    "\n",
    "#논리식을 만족하는 부분집합만 출력 = selection\n",
    "selected = a[a>5]\n",
    "print(selected)\n",
    "#논리식 결합 \n",
    "selected = a[(a>5)|(a<3)]\n",
    "print(selected)\n",
    "selected = a[(a>6)&(a<9)]\n",
    "print(selected)"
   ]
  },
  {
   "cell_type": "code",
   "execution_count": 29,
   "id": "12794523-3025-4c17-a8ea-2bc171955388",
   "metadata": {},
   "outputs": [
    {
     "name": "stdout",
     "output_type": "stream",
     "text": [
      "[79 65 50 63 56 90 85 98 79 51]\n",
      "[50 56 51]\n",
      "[90 85 98]\n",
      "[79 65 63 79]\n"
     ]
    }
   ],
   "source": [
    "\"\"\"\n",
    "goldilocks porridge festival \n",
    "\"\"\"\n",
    "porridge = np.array([79,65,50,63,56,90,85,98,79,51])\n",
    "print(porridge)\n",
    "\n",
    "cold = porridge[porridge < 60]\n",
    "print(cold)\n",
    "hot = porridge[porridge > 80]\n",
    "print(hot)\n",
    "just_right = porridge[(porridge>=60)&(porridge<=80)]\n",
    "print(just_right)"
   ]
  },
  {
   "cell_type": "code",
   "execution_count": null,
   "id": "b942f9ff-14b1-4d44-8d29-7a8b38e19d65",
   "metadata": {},
   "outputs": [],
   "source": []
  }
 ],
 "metadata": {
  "kernelspec": {
   "display_name": "Python 3",
   "language": "python",
   "name": "python3"
  },
  "language_info": {
   "codemirror_mode": {
    "name": "ipython",
    "version": 3
   },
   "file_extension": ".py",
   "mimetype": "text/x-python",
   "name": "python",
   "nbconvert_exporter": "python",
   "pygments_lexer": "ipython3",
   "version": "3.8.8"
  }
 },
 "nbformat": 4,
 "nbformat_minor": 5
}
