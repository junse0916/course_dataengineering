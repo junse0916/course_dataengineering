{
 "cells": [
  {
   "cell_type": "code",
   "execution_count": 2,
   "id": "f13026d1-9f26-4981-a435-fce3c7701df6",
   "metadata": {},
   "outputs": [
    {
     "name": "stdout",
     "output_type": "stream",
     "text": [
      "Hello World\n",
      "20\n",
      "3.14\n",
      "My name isjun snag eun \n"
     ]
    }
   ],
   "source": [
    "\"\"\"\n",
    "print()funtion \n",
    "\"\"\"\n",
    "\n",
    "print(\"Hello World\")\n",
    "print(20)\n",
    "pi= 3.14\n",
    "print(pi)\n",
    "introduce= \"My name is\"\n",
    "name= \"jun snag eun \"\n",
    "print(introduce + name)"
   ]
  },
  {
   "cell_type": "code",
   "execution_count": 3,
   "id": "436967a0-b16e-469d-820c-b82ce35df4c1",
   "metadata": {},
   "outputs": [],
   "source": [
    "\"\"\"\n",
    "Variables\n",
    "\"\"\"\n",
    "#나를 표현할 수 있는 정보 세가지 이상을 변수로 선언하시오.\n",
    "user_name=\"jun sang eun\"\n",
    "user_birth=20010916\n",
    "user_email= \"junse0916@hs.ac.kr\"\n",
    "is_student= True"
   ]
  },
  {
   "cell_type": "code",
   "execution_count": 4,
   "id": "011be81a-3505-4fb2-b6d9-7d3566154774",
   "metadata": {},
   "outputs": [],
   "source": [
    "\"\"\"\n",
    "Data Types: Integers\n",
    "\"\"\"\n",
    "#집에 있는 3가지 이상 사물의 갯수를 정수 변수로 표현하시오.\n",
    "tables = 3\n",
    "sofa = 1\n",
    "tv = 2\n",
    "ipad = 2"
   ]
  },
  {
   "cell_type": "code",
   "execution_count": 8,
   "id": "e60a4857-af3a-4816-9461-fac7d27a7dcf",
   "metadata": {},
   "outputs": [],
   "source": [
    "\"\"\"\n",
    "Data Types : Real Numbers\n",
    "\"\"\"\n",
    "#본인이 알고 잇는 세개의 실수를 변수로 정의하시오.\n",
    "PI= 3.14\n",
    "krw_eur_exchange = 1389.07\n",
    "celsius_fahrenheit_exchange =33.8"
   ]
  },
  {
   "cell_type": "code",
   "execution_count": 9,
   "id": "4e3a0072-3a45-46dd-8091-aa10060c4c4f",
   "metadata": {},
   "outputs": [],
   "source": [
    "\"\"\"\n",
    "Data Types : Strings\n",
    "\"\"\"\n",
    "#본인이 좋아하는 세가지를 문자열로 정의하시오.\n",
    "favorite_game = \"The Sims\"\n",
    "favorite_drink = \"sprite\"\n",
    "favorite_cafe = \"Hollys\""
   ]
  },
  {
   "cell_type": "code",
   "execution_count": null,
   "id": "81d2f6fe-6463-4a5a-98ca-12ee969218c7",
   "metadata": {},
   "outputs": [],
   "source": []
  },
  {
   "cell_type": "code",
   "execution_count": null,
   "id": "609be9c2-aedf-45b3-a1de-a443cf656a97",
   "metadata": {},
   "outputs": [],
   "source": []
  }
 ],
 "metadata": {
  "kernelspec": {
   "display_name": "Python 3",
   "language": "python",
   "name": "python3"
  },
  "language_info": {
   "codemirror_mode": {
    "name": "ipython",
    "version": 3
   },
   "file_extension": ".py",
   "mimetype": "text/x-python",
   "name": "python",
   "nbconvert_exporter": "python",
   "pygments_lexer": "ipython3",
   "version": "3.8.8"
  },
  "toc-showmarkdowntxt": false
 },
 "nbformat": 4,
 "nbformat_minor": 5
}
