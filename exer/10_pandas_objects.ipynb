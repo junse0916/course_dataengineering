{
 "cells": [
  {
   "cell_type": "code",
   "execution_count": 40,
   "id": "15923b26-f23d-4ef8-ae50-85f53915ba14",
   "metadata": {},
   "outputs": [],
   "source": [
    "import pandas as pd\n",
    "import numpy as np"
   ]
  },
  {
   "cell_type": "code",
   "execution_count": 41,
   "id": "5eb767b8-7578-4bf2-9c72-c5ad41da0307",
   "metadata": {},
   "outputs": [
    {
     "name": "stdout",
     "output_type": "stream",
     "text": [
      "0    0.25\n",
      "1    0.50\n",
      "2    0.75\n",
      "3    1.00\n",
      "dtype: float64\n",
      "[0.25 0.5  0.75 1.  ]\n",
      "RangeIndex(start=0, stop=4, step=1)\n",
      "[0 1 2 3]\n"
     ]
    }
   ],
   "source": [
    "\"\"\"\n",
    "pandas objects: series\n",
    "\"\"\"\n",
    "ser = pd.Series([0.25, 0.5, 0.75, 1.0])\n",
    "print(ser)\n",
    "\n",
    "#values\n",
    "arr = ser.values\n",
    "print(arr)\n",
    "\n",
    "#index\n",
    "ind = ser.index\n",
    "print(ind)\n",
    "print(ind.values)  # 인덱스의 값만 출력하고 싶을 떄 "
   ]
  },
  {
   "cell_type": "code",
   "execution_count": 42,
   "id": "0b4a24cf-50e6-4871-befb-82fcc4c94035",
   "metadata": {},
   "outputs": [
    {
     "name": "stdout",
     "output_type": "stream",
     "text": [
      "a    0.25\n",
      "b    0.50\n",
      "c    0.75\n",
      "d    1.00\n",
      "dtype: float64\n",
      "0.5\n",
      "{'a': 1, 2: 'two', 'thrid': True}\n"
     ]
    }
   ],
   "source": [
    "#label-based indexing \n",
    "ser = pd.Series([0.25, 0.5, 0.75, 1.0], index=['a','b','c','d'])\n",
    "print(ser)\n",
    "print(ser['b'])\n",
    "\n",
    "#dictionary:<key : value>\n",
    "dict = {'a':1,2:'two','thrid':True}\n",
    "print(dict)"
   ]
  },
  {
   "cell_type": "code",
   "execution_count": 43,
   "id": "79268860-16b1-4943-8fc9-e154b8637e35",
   "metadata": {},
   "outputs": [
    {
     "name": "stdout",
     "output_type": "stream",
     "text": [
      "California    38332521\n",
      "Texas         26448193\n",
      "New York      19651127\n",
      "Florida       19552860\n",
      "Illinois      12882135\n",
      "dtype: int64\n"
     ]
    },
    {
     "data": {
      "text/plain": [
       "California    38332521\n",
       "Texas         26448193\n",
       "New York      19651127\n",
       "dtype: int64"
      ]
     },
     "execution_count": 43,
     "metadata": {},
     "output_type": "execute_result"
    }
   ],
   "source": [
    "\"\"\"\n",
    "Creating a Series object from a Dictionary\n",
    "\"\"\"\n",
    "population_dict = {'California': 38332521,\n",
    "                  'Texas': 26448193,\n",
    "                  'New York': 19651127,\n",
    "                  'Florida': 19552860,\n",
    "                  'Illinois': 12882135}\n",
    "population = pd.Series(population_dict)\n",
    "print(population)\n",
    "population['California':'New York']"
   ]
  },
  {
   "cell_type": "code",
   "execution_count": 52,
   "id": "57395fc9-ba88-4eda-a6f6-3a9e8925f4f5",
   "metadata": {},
   "outputs": [
    {
     "name": "stdout",
     "output_type": "stream",
     "text": [
      "California    423967\n",
      "Texas         695662\n",
      "New York      141297\n",
      "Florida       170312\n",
      "Illinois      149995\n",
      "dtype: int64\n",
      "            population    area\n",
      "California    38332521  423967\n",
      "Texas         26448193  695662\n",
      "New York      19651127  141297\n",
      "Florida       19552860  170312\n",
      "Illinois      12882135  149995\n",
      "Index(['California', 'Texas', 'New York', 'Florida', 'Illinois'], dtype='object')\n",
      "Index(['population', 'area'], dtype='object')\n"
     ]
    },
    {
     "data": {
      "text/plain": [
       "California    423967\n",
       "Texas         695662\n",
       "New York      141297\n",
       "Florida       170312\n",
       "Illinois      149995\n",
       "Name: area, dtype: int64"
      ]
     },
     "execution_count": 52,
     "metadata": {},
     "output_type": "execute_result"
    }
   ],
   "source": [
    "\"\"\"\n",
    "Data Frame \n",
    "\"\"\"\n",
    "area_dict ={'California': 423967, 'Texas': 695662, 'New York': 141297, 'Florida': 170312, 'Illinois': 149995}\n",
    "area = pd.Series(area_dict)\n",
    "print(area)\n",
    "\n",
    "states = pd.DataFrame({'population': population,'area':area})\n",
    "print(states)\n",
    "\n",
    "print(states.index)\n",
    "print(states.columns)\n",
    "states['area']"
   ]
  },
  {
   "cell_type": "code",
   "execution_count": 53,
   "id": "d120cd5c-e804-4f69-ad28-7a3e858a3559",
   "metadata": {},
   "outputs": [
    {
     "name": "stdout",
     "output_type": "stream",
     "text": [
      "[[0.74994163 0.22145368]\n",
      " [0.74813655 0.99576   ]\n",
      " [0.08391045 0.78022363]]\n"
     ]
    },
    {
     "data": {
      "text/html": [
       "<div>\n",
       "<style scoped>\n",
       "    .dataframe tbody tr th:only-of-type {\n",
       "        vertical-align: middle;\n",
       "    }\n",
       "\n",
       "    .dataframe tbody tr th {\n",
       "        vertical-align: top;\n",
       "    }\n",
       "\n",
       "    .dataframe thead th {\n",
       "        text-align: right;\n",
       "    }\n",
       "</style>\n",
       "<table border=\"1\" class=\"dataframe\">\n",
       "  <thead>\n",
       "    <tr style=\"text-align: right;\">\n",
       "      <th></th>\n",
       "      <th>foo</th>\n",
       "      <th>bar</th>\n",
       "    </tr>\n",
       "  </thead>\n",
       "  <tbody>\n",
       "    <tr>\n",
       "      <th>a</th>\n",
       "      <td>0.749942</td>\n",
       "      <td>0.221454</td>\n",
       "    </tr>\n",
       "    <tr>\n",
       "      <th>b</th>\n",
       "      <td>0.748137</td>\n",
       "      <td>0.995760</td>\n",
       "    </tr>\n",
       "    <tr>\n",
       "      <th>c</th>\n",
       "      <td>0.083910</td>\n",
       "      <td>0.780224</td>\n",
       "    </tr>\n",
       "  </tbody>\n",
       "</table>\n",
       "</div>"
      ],
      "text/plain": [
       "        foo       bar\n",
       "a  0.749942  0.221454\n",
       "b  0.748137  0.995760\n",
       "c  0.083910  0.780224"
      ]
     },
     "execution_count": 53,
     "metadata": {},
     "output_type": "execute_result"
    }
   ],
   "source": [
    "arr = np.random.rand(3,2)\n",
    "print(arr)\n",
    "\n",
    "pd.DataFrame(arr, columns=['foo','bar'], index = ['a','b','c'])\n"
   ]
  },
  {
   "cell_type": "code",
   "execution_count": 54,
   "id": "31ba3d58-e6ba-41cb-bbcc-f7e1021bbf58",
   "metadata": {},
   "outputs": [
    {
     "name": "stdout",
     "output_type": "stream",
     "text": [
      "a    0.25\n",
      "b    0.50\n",
      "c    0.75\n",
      "d    1.00\n",
      "dtype: float64\n",
      "0.5\n",
      "True\n",
      "False\n",
      "a    0.125\n",
      "b    0.500\n",
      "c    0.750\n",
      "dtype: float64\n",
      "b    0.50\n",
      "c    0.75\n",
      "dtype: float64\n",
      "a    0.125\n",
      "e    1.250\n",
      "dtype: float64\n",
      "a    0.125\n",
      "b    0.500\n",
      "c    0.750\n",
      "dtype: float64\n",
      "a    0.125\n",
      "b    0.500\n",
      "dtype: float64\n"
     ]
    }
   ],
   "source": [
    "ser = pd.Series([0.25,0.5,0.75,1.0], index = ['a','b','c','d'])\n",
    "print(ser)\n",
    "print(ser['b'])\n",
    "print('a' in ser)\n",
    "print(0.25 in ser)\n",
    "\n",
    "ser.keys()                 # get the all keys(= indices)\n",
    "ser['e'] = 1.25            # add a new value\n",
    "ser['a'] = 0.125           # reassignment\n",
    "\n",
    "print(ser['a':'c'])\n",
    "print(ser[(ser >0.3) & (ser < 0.8)])\n",
    "print(ser[['a','e']])\n",
    "\n",
    "print(ser['a':'c'])        #명목적 인덱싱: 마지막 인덱스 값 포함 \n",
    "print(ser[0:2])            #암묵적 인덱싱: 마지막 인덱스 값 포함되지 않음\n"
   ]
  },
  {
   "cell_type": "code",
   "execution_count": 58,
   "id": "c3208675-b0e3-451f-b1a7-9a14a8e37476",
   "metadata": {},
   "outputs": [
    {
     "name": "stdout",
     "output_type": "stream",
     "text": [
      "California    423967\n",
      "Texas         695662\n",
      "New York      141297\n",
      "Florida       170312\n",
      "Illinois      149995\n",
      "Name: area, dtype: int64 \n",
      "\n",
      "California    423967\n",
      "Texas         695662\n",
      "New York      141297\n",
      "Florida       170312\n",
      "Illinois      149995\n",
      "Name: area, dtype: int64\n",
      "            population    area     density\n",
      "California    38332521  423967   90.413926\n",
      "Texas         26448193  695662   38.018740\n",
      "New York      19651127  141297  139.076746\n",
      "Florida       19552860  170312  114.806121\n",
      "Illinois      12882135  149995   85.883763\n"
     ]
    }
   ],
   "source": [
    "print(states['area'],'\\n')   #-> 이 방법이 활용성이 좋다 \n",
    "print(states.area)\n",
    "\n",
    "states['density'] = states['population'] / states['area']\n",
    "print(states)"
   ]
  },
  {
   "cell_type": "code",
   "execution_count": 69,
   "id": "5048d76e-b050-4084-84b0-4251e815aabc",
   "metadata": {},
   "outputs": [
    {
     "name": "stdout",
     "output_type": "stream",
     "text": [
      "          population    area     density\n",
      "Texas       26448193  695662   38.018740\n",
      "New York    19651127  141297  139.076746\n",
      "            population    area\n",
      "California    38332521  423967\n",
      "Texas         26448193  695662\n",
      "New York      19651127  141297\n"
     ]
    },
    {
     "data": {
      "text/html": [
       "<div>\n",
       "<style scoped>\n",
       "    .dataframe tbody tr th:only-of-type {\n",
       "        vertical-align: middle;\n",
       "    }\n",
       "\n",
       "    .dataframe tbody tr th {\n",
       "        vertical-align: top;\n",
       "    }\n",
       "\n",
       "    .dataframe thead th {\n",
       "        text-align: right;\n",
       "    }\n",
       "</style>\n",
       "<table border=\"1\" class=\"dataframe\">\n",
       "  <thead>\n",
       "    <tr style=\"text-align: right;\">\n",
       "      <th></th>\n",
       "      <th>population</th>\n",
       "      <th>density</th>\n",
       "    </tr>\n",
       "  </thead>\n",
       "  <tbody>\n",
       "    <tr>\n",
       "      <th>New York</th>\n",
       "      <td>19651127</td>\n",
       "      <td>139.076746</td>\n",
       "    </tr>\n",
       "    <tr>\n",
       "      <th>Florida</th>\n",
       "      <td>19552860</td>\n",
       "      <td>114.806121</td>\n",
       "    </tr>\n",
       "  </tbody>\n",
       "</table>\n",
       "</div>"
      ],
      "text/plain": [
       "          population     density\n",
       "New York    19651127  139.076746\n",
       "Florida     19552860  114.806121"
      ]
     },
     "execution_count": 69,
     "metadata": {},
     "output_type": "execute_result"
    }
   ],
   "source": [
    "\"\"\"\n",
    "indexers\n",
    "\"\"\"\n",
    "print(states.loc['Texas': 'New York'])\n",
    "print(states.iloc[:3,:2])\n",
    "\n",
    "states.loc[states.density > 100, ['population','density']]\n"
   ]
  },
  {
   "cell_type": "code",
   "execution_count": null,
   "id": "9a4e3230-c614-4c33-828a-e07dd37ee391",
   "metadata": {},
   "outputs": [],
   "source": []
  }
 ],
 "metadata": {
  "kernelspec": {
   "display_name": "Python 3",
   "language": "python",
   "name": "python3"
  },
  "language_info": {
   "codemirror_mode": {
    "name": "ipython",
    "version": 3
   },
   "file_extension": ".py",
   "mimetype": "text/x-python",
   "name": "python",
   "nbconvert_exporter": "python",
   "pygments_lexer": "ipython3",
   "version": "3.8.8"
  }
 },
 "nbformat": 4,
 "nbformat_minor": 5
}
