{
 "cells": [
  {
   "cell_type": "code",
   "execution_count": 3,
   "id": "84d82e94-c344-4453-b0f3-8722f020dcd1",
   "metadata": {},
   "outputs": [
    {
     "name": "stderr",
     "output_type": "stream",
     "text": [
      "<ipython-input-3-e23ecb89d3de>:3: FutureWarning: The pandas.datetime class is deprecated and will be removed from pandas in a future version. Import from datetime module instead.\n",
      "  from pandas import datetime\n"
     ]
    },
    {
     "data": {
      "text/html": [
       "<div>\n",
       "<style scoped>\n",
       "    .dataframe tbody tr th:only-of-type {\n",
       "        vertical-align: middle;\n",
       "    }\n",
       "\n",
       "    .dataframe tbody tr th {\n",
       "        vertical-align: top;\n",
       "    }\n",
       "\n",
       "    .dataframe thead th {\n",
       "        text-align: right;\n",
       "    }\n",
       "</style>\n",
       "<table border=\"1\" class=\"dataframe\">\n",
       "  <thead>\n",
       "    <tr style=\"text-align: right;\">\n",
       "      <th></th>\n",
       "      <th>CO(GT)</th>\n",
       "      <th>PT08.S1(CO)</th>\n",
       "      <th>PT08.S2(NMHC)</th>\n",
       "      <th>NOx(GT)</th>\n",
       "      <th>PT08.S3(NOx)</th>\n",
       "      <th>NO2(GT)</th>\n",
       "      <th>PT08.S4(NO2)</th>\n",
       "      <th>PT08.S5(O3)</th>\n",
       "      <th>RH</th>\n",
       "      <th>AH</th>\n",
       "      <th>C6H6(GT)</th>\n",
       "    </tr>\n",
       "    <tr>\n",
       "      <th>Datetime</th>\n",
       "      <th></th>\n",
       "      <th></th>\n",
       "      <th></th>\n",
       "      <th></th>\n",
       "      <th></th>\n",
       "      <th></th>\n",
       "      <th></th>\n",
       "      <th></th>\n",
       "      <th></th>\n",
       "      <th></th>\n",
       "      <th></th>\n",
       "    </tr>\n",
       "  </thead>\n",
       "  <tbody>\n",
       "    <tr>\n",
       "      <th>2004-03-10 18:00:00</th>\n",
       "      <td>2.6</td>\n",
       "      <td>1360.0</td>\n",
       "      <td>1046.0</td>\n",
       "      <td>166.0</td>\n",
       "      <td>1056.0</td>\n",
       "      <td>113.0</td>\n",
       "      <td>1692.0</td>\n",
       "      <td>1268.0</td>\n",
       "      <td>48.9</td>\n",
       "      <td>0.7578</td>\n",
       "      <td>11.9</td>\n",
       "    </tr>\n",
       "    <tr>\n",
       "      <th>2004-03-10 19:00:00</th>\n",
       "      <td>2.0</td>\n",
       "      <td>1292.0</td>\n",
       "      <td>955.0</td>\n",
       "      <td>103.0</td>\n",
       "      <td>1174.0</td>\n",
       "      <td>92.0</td>\n",
       "      <td>1559.0</td>\n",
       "      <td>972.0</td>\n",
       "      <td>47.7</td>\n",
       "      <td>0.7255</td>\n",
       "      <td>9.4</td>\n",
       "    </tr>\n",
       "    <tr>\n",
       "      <th>2004-03-10 20:00:00</th>\n",
       "      <td>2.2</td>\n",
       "      <td>1402.0</td>\n",
       "      <td>939.0</td>\n",
       "      <td>131.0</td>\n",
       "      <td>1140.0</td>\n",
       "      <td>114.0</td>\n",
       "      <td>1555.0</td>\n",
       "      <td>1074.0</td>\n",
       "      <td>54.0</td>\n",
       "      <td>0.7502</td>\n",
       "      <td>9.0</td>\n",
       "    </tr>\n",
       "    <tr>\n",
       "      <th>2004-03-10 21:00:00</th>\n",
       "      <td>2.2</td>\n",
       "      <td>1376.0</td>\n",
       "      <td>948.0</td>\n",
       "      <td>172.0</td>\n",
       "      <td>1092.0</td>\n",
       "      <td>122.0</td>\n",
       "      <td>1584.0</td>\n",
       "      <td>1203.0</td>\n",
       "      <td>60.0</td>\n",
       "      <td>0.7867</td>\n",
       "      <td>9.2</td>\n",
       "    </tr>\n",
       "    <tr>\n",
       "      <th>2004-03-10 22:00:00</th>\n",
       "      <td>1.6</td>\n",
       "      <td>1272.0</td>\n",
       "      <td>836.0</td>\n",
       "      <td>131.0</td>\n",
       "      <td>1205.0</td>\n",
       "      <td>116.0</td>\n",
       "      <td>1490.0</td>\n",
       "      <td>1110.0</td>\n",
       "      <td>59.6</td>\n",
       "      <td>0.7888</td>\n",
       "      <td>6.5</td>\n",
       "    </tr>\n",
       "  </tbody>\n",
       "</table>\n",
       "</div>"
      ],
      "text/plain": [
       "                     CO(GT)  PT08.S1(CO)  PT08.S2(NMHC)  NOx(GT)  \\\n",
       "Datetime                                                           \n",
       "2004-03-10 18:00:00     2.6       1360.0         1046.0    166.0   \n",
       "2004-03-10 19:00:00     2.0       1292.0          955.0    103.0   \n",
       "2004-03-10 20:00:00     2.2       1402.0          939.0    131.0   \n",
       "2004-03-10 21:00:00     2.2       1376.0          948.0    172.0   \n",
       "2004-03-10 22:00:00     1.6       1272.0          836.0    131.0   \n",
       "\n",
       "                     PT08.S3(NOx)  NO2(GT)  PT08.S4(NO2)  PT08.S5(O3)    RH  \\\n",
       "Datetime                                                                      \n",
       "2004-03-10 18:00:00        1056.0    113.0        1692.0       1268.0  48.9   \n",
       "2004-03-10 19:00:00        1174.0     92.0        1559.0        972.0  47.7   \n",
       "2004-03-10 20:00:00        1140.0    114.0        1555.0       1074.0  54.0   \n",
       "2004-03-10 21:00:00        1092.0    122.0        1584.0       1203.0  60.0   \n",
       "2004-03-10 22:00:00        1205.0    116.0        1490.0       1110.0  59.6   \n",
       "\n",
       "                         AH  C6H6(GT)  \n",
       "Datetime                               \n",
       "2004-03-10 18:00:00  0.7578      11.9  \n",
       "2004-03-10 19:00:00  0.7255       9.4  \n",
       "2004-03-10 20:00:00  0.7502       9.0  \n",
       "2004-03-10 21:00:00  0.7867       9.2  \n",
       "2004-03-10 22:00:00  0.7888       6.5  "
      ]
     },
     "execution_count": 3,
     "metadata": {},
     "output_type": "execute_result"
    }
   ],
   "source": [
    "import pandas as pd\n",
    "import numpy as np\n",
    "from pandas import datetime\n",
    "from matplotlib import pyplot as plt\n",
    "\n",
    "\"\"\"\n",
    "Load AirQualityUCI Data\n",
    "\"\"\"\n",
    "\n",
    "def parser(x):\n",
    "    return datetime.strptime(x, '%Y-%m-%d %H:%M:%S')\n",
    "\n",
    "input_file = './data/AirQualityUCI_refined.csv'\n",
    "\n",
    "df = pd.read_csv(input_file,\n",
    "                 index_col=[0],\n",
    "                 parse_dates=[0],\n",
    "                 date_parser=parser)\n",
    "\n",
    "df.head()"
   ]
  },
  {
   "cell_type": "code",
   "execution_count": 4,
   "id": "9a64d918-2a47-4838-aa11-43e3bde24dcb",
   "metadata": {},
   "outputs": [
    {
     "name": "stdout",
     "output_type": "stream",
     "text": [
      "Using matplotlib backend: Qt5Agg\n"
     ]
    }
   ],
   "source": [
    "# Visualization setup\n",
    "%matplotlib\n",
    "%config InlineBackend.figure_format = 'svg'\n",
    "\n",
    "from matplotlib import pyplot as plt\n",
    "plt.rcParams['figure.figsize'] = [10, 5]\n",
    "plt.ion() # enable the interactive mode\n",
    "\n",
    "import seaborn as sns\n",
    "sns.set()  # set plot styles"
   ]
  },
  {
   "cell_type": "code",
   "execution_count": 5,
   "id": "2fc22cbf-e582-46b0-8758-3c67b29cc926",
   "metadata": {},
   "outputs": [
    {
     "data": {
      "text/plain": [
       "<AxesSubplot:xlabel='Datetime'>"
      ]
     },
     "execution_count": 5,
     "metadata": {},
     "output_type": "execute_result"
    }
   ],
   "source": [
    "df['CO(GT)'].plot()"
   ]
  },
  {
   "cell_type": "code",
   "execution_count": 6,
   "id": "50381e50-9c6d-483c-b1a7-0c01770f1f7b",
   "metadata": {},
   "outputs": [],
   "source": [
    "#linear interpolation\n",
    "co = df['CO(GT)'].copy()\n",
    "co.interpolate(inplace=True)"
   ]
  },
  {
   "cell_type": "code",
   "execution_count": 7,
   "id": "98c54dea-1318-4b66-abc8-005d3e4f0112",
   "metadata": {},
   "outputs": [
    {
     "data": {
      "text/plain": [
       "<matplotlib.legend.Legend at 0x1eac848f520>"
      ]
     },
     "execution_count": 7,
     "metadata": {},
     "output_type": "execute_result"
    }
   ],
   "source": [
    "#visualize original and imputed data\n",
    "plt.plot(df['CO(GT)'], label = 'original',zorder=2)\n",
    "#plt.plot(co, label = 'liner interpolation', zoder=1)\n",
    "plt.legend(loc = 'best')"
   ]
  },
  {
   "cell_type": "code",
   "execution_count": 8,
   "id": "5185e32f-724d-406d-9e2f-816d4362e684",
   "metadata": {},
   "outputs": [
    {
     "data": {
      "text/plain": [
       "Text(0.5, 1.0, 'detecting outliers using boxplot')"
      ]
     },
     "execution_count": 8,
     "metadata": {},
     "output_type": "execute_result"
    }
   ],
   "source": [
    "#detecting outliers using boxplot\n",
    "plt.boxplot(co)\n",
    "plt.title('detecting outliers using boxplot')\n",
    "#plt.xlable('CO(GT)')"
   ]
  },
  {
   "cell_type": "code",
   "execution_count": 9,
   "id": "614f4383-d4e1-4437-981a-68e2e6270478",
   "metadata": {},
   "outputs": [
    {
     "name": "stdout",
     "output_type": "stream",
     "text": [
      "                 CO(GT)  PT08.S1(CO)  PT08.S2(NMHC)   NOx(GT)  PT08.S3(NOx)  \\\n",
      "CO(GT)         1.000000     0.877203       0.914973  0.792557     -0.701703   \n",
      "PT08.S1(CO)    0.877203     1.000000       0.892964  0.713654     -0.771938   \n",
      "PT08.S2(NMHC)  0.914973     0.892964       1.000000  0.704435     -0.796703   \n",
      "NOx(GT)        0.792557     0.713654       0.704435  1.000000     -0.655707   \n",
      "PT08.S3(NOx)  -0.701703    -0.771938      -0.796703 -0.655707      1.000000   \n",
      "NO2(GT)        0.679262     0.641529       0.646245  0.763111     -0.652083   \n",
      "PT08.S4(NO2)   0.639470     0.682881       0.777254  0.233731     -0.538468   \n",
      "PT08.S5(O3)    0.851403     0.899324       0.880578  0.787046     -0.796569   \n",
      "RH             0.040218     0.114606      -0.090380  0.221032     -0.056740   \n",
      "AH             0.065809     0.135324       0.186933 -0.149323     -0.232017   \n",
      "C6H6(GT)       0.845144     0.883795       0.981950  0.626638     -0.735744   \n",
      "\n",
      "                NO2(GT)  PT08.S4(NO2)  PT08.S5(O3)        RH        AH  \\\n",
      "CO(GT)         0.679262      0.639470     0.851403  0.040218  0.065809   \n",
      "PT08.S1(CO)    0.641529      0.682881     0.899324  0.114606  0.135324   \n",
      "PT08.S2(NMHC)  0.646245      0.777254     0.880578 -0.090380  0.186933   \n",
      "NOx(GT)        0.763111      0.233731     0.787046  0.221032 -0.149323   \n",
      "PT08.S3(NOx)  -0.652083     -0.538468    -0.796569 -0.056740 -0.232017   \n",
      "NO2(GT)        1.000000      0.157360     0.708128 -0.091759 -0.335022   \n",
      "PT08.S4(NO2)   0.157360      1.000000     0.591144 -0.032188  0.629641   \n",
      "PT08.S5(O3)    0.708128      0.591144     1.000000  0.124956  0.070751   \n",
      "RH            -0.091759     -0.032188     0.124956  1.000000  0.167971   \n",
      "AH            -0.335022      0.629641     0.070751  0.167971  1.000000   \n",
      "C6H6(GT)       0.544039      0.765731     0.865689 -0.061681  0.167972   \n",
      "\n",
      "               C6H6(GT)  \n",
      "CO(GT)         0.845144  \n",
      "PT08.S1(CO)    0.883795  \n",
      "PT08.S2(NMHC)  0.981950  \n",
      "NOx(GT)        0.626638  \n",
      "PT08.S3(NOx)  -0.735744  \n",
      "NO2(GT)        0.544039  \n",
      "PT08.S4(NO2)   0.765731  \n",
      "PT08.S5(O3)    0.865689  \n",
      "RH            -0.061681  \n",
      "AH             0.167972  \n",
      "C6H6(GT)       1.000000  \n"
     ]
    }
   ],
   "source": [
    "#Calculate correlations between variables\n",
    "corr_matrix = df.corr()\n",
    "print(corr_matrix)"
   ]
  },
  {
   "cell_type": "code",
   "execution_count": 10,
   "id": "3aca4ff0-2e0b-45eb-ac36-9c9e73c482c2",
   "metadata": {},
   "outputs": [],
   "source": [
    "#Choose the least correlated variable \n",
    "rh = df['RH'].copy().interpolate() #RH(relative humidity)\n"
   ]
  },
  {
   "cell_type": "code",
   "execution_count": 11,
   "id": "6e3b42c7-f83c-4956-8a19-c68042162fff",
   "metadata": {},
   "outputs": [
    {
     "ename": "AttributeError",
     "evalue": "module 'matplotlib.pyplot' has no attribute 'xlable'",
     "output_type": "error",
     "traceback": [
      "\u001b[1;31m---------------------------------------------------------------------------\u001b[0m",
      "\u001b[1;31mAttributeError\u001b[0m                            Traceback (most recent call last)",
      "\u001b[1;32m<ipython-input-11-e96d7712f809>\u001b[0m in \u001b[0;36m<module>\u001b[1;34m\u001b[0m\n\u001b[0;32m      1\u001b[0m \u001b[1;31m#visualize a scatter plot(CO, RH)\u001b[0m\u001b[1;33m\u001b[0m\u001b[1;33m\u001b[0m\u001b[1;33m\u001b[0m\u001b[0m\n\u001b[0;32m      2\u001b[0m \u001b[0mplt\u001b[0m\u001b[1;33m.\u001b[0m\u001b[0mscatter\u001b[0m\u001b[1;33m(\u001b[0m\u001b[0mco\u001b[0m\u001b[1;33m,\u001b[0m \u001b[0mrh\u001b[0m\u001b[1;33m,\u001b[0m \u001b[0ms\u001b[0m\u001b[1;33m=\u001b[0m\u001b[1;36m12\u001b[0m\u001b[1;33m,\u001b[0m \u001b[0mc\u001b[0m\u001b[1;33m=\u001b[0m\u001b[1;34m'black'\u001b[0m\u001b[1;33m)\u001b[0m\u001b[1;33m\u001b[0m\u001b[1;33m\u001b[0m\u001b[0m\n\u001b[1;32m----> 3\u001b[1;33m \u001b[0mplt\u001b[0m\u001b[1;33m.\u001b[0m\u001b[0mxlable\u001b[0m\u001b[1;33m(\u001b[0m\u001b[1;34m'CO(GT)'\u001b[0m\u001b[1;33m)\u001b[0m\u001b[1;33m\u001b[0m\u001b[1;33m\u001b[0m\u001b[0m\n\u001b[0m\u001b[0;32m      4\u001b[0m \u001b[0mplt\u001b[0m\u001b[1;33m.\u001b[0m\u001b[0mylable\u001b[0m\u001b[1;33m(\u001b[0m\u001b[1;34m'RH'\u001b[0m\u001b[1;33m)\u001b[0m\u001b[1;33m\u001b[0m\u001b[1;33m\u001b[0m\u001b[0m\n",
      "\u001b[1;31mAttributeError\u001b[0m: module 'matplotlib.pyplot' has no attribute 'xlable'"
     ]
    }
   ],
   "source": [
    "#visualize a scatter plot(CO, RH)\n",
    "plt.scatter(co, rh, s=12, c='black')\n",
    "plt.xlable('CO(GT)')\n",
    "plt.ylable('RH')"
   ]
  },
  {
   "cell_type": "code",
   "execution_count": 12,
   "id": "42f2b6d5-a8a2-41cb-8a15-6462fa9feb9e",
   "metadata": {},
   "outputs": [],
   "source": [
    "#choose the most correlated variable\n",
    "nmhc = df['PT08.S2(NMHC)'].copy().interpolate() "
   ]
  },
  {
   "cell_type": "code",
   "execution_count": 13,
   "id": "906c83b0-cceb-4597-aa09-b0c86a2787e5",
   "metadata": {},
   "outputs": [
    {
     "data": {
      "text/plain": [
       "<matplotlib.collections.PathCollection at 0x1eacac0d9a0>"
      ]
     },
     "execution_count": 13,
     "metadata": {},
     "output_type": "execute_result"
    }
   ],
   "source": [
    "plt.scatter(co, nmhc, s=12, c='black')"
   ]
  },
  {
   "cell_type": "code",
   "execution_count": 14,
   "id": "980b2c55-9ad3-4eaa-857b-314da49478af",
   "metadata": {},
   "outputs": [
    {
     "name": "stdout",
     "output_type": "stream",
     "text": [
      "1.1 1.8 2.9\n"
     ]
    }
   ],
   "source": [
    "\"\"\"\n",
    "IQR-based Outlier Detection\n",
    "\"\"\"\n",
    "\n",
    "#Q1,Q2,Q3\n",
    "q1 = co.quantile(0.25)\n",
    "median = co.quantile(0.5) #q2\n",
    "q3 = co.quantile(0.75)\n",
    "print(q1,median, q3)"
   ]
  },
  {
   "cell_type": "code",
   "execution_count": 15,
   "id": "638fe916-9643-4d65-81c6-51102a18869a",
   "metadata": {},
   "outputs": [
    {
     "name": "stdout",
     "output_type": "stream",
     "text": [
      "5.6 -1.5999999999999996\n"
     ]
    }
   ],
   "source": [
    "#IQR, upper_fense, lower_fence\n",
    "iqr = q3-q1\n",
    "upper_fence = q3 +1.5*iqr\n",
    "lower_fence = q1 -1.5*iqr\n",
    "print(upper_fence, lower_fence)"
   ]
  },
  {
   "cell_type": "code",
   "execution_count": 16,
   "id": "3fd1c084-0a5b-4e9d-b9b8-dd253b461970",
   "metadata": {},
   "outputs": [
    {
     "data": {
      "text/plain": [
       "Datetime\n",
       "2004-03-11 19:00:00    6.9\n",
       "2004-03-11 20:00:00    6.1\n",
       "2004-03-12 20:00:00    6.6\n",
       "2004-03-14 20:00:00    5.9\n",
       "2004-03-15 09:00:00    8.1\n",
       "                      ... \n",
       "2005-03-23 19:00:00    6.2\n",
       "2005-03-23 20:00:00    7.2\n",
       "2005-03-24 19:00:00    5.9\n",
       "2005-03-24 20:00:00    7.5\n",
       "2005-03-25 19:00:00    5.7\n",
       "Name: CO(GT), Length: 224, dtype: float64"
      ]
     },
     "execution_count": 16,
     "metadata": {},
     "output_type": "execute_result"
    }
   ],
   "source": [
    "#filtering the outliers\n",
    "outliers = co.loc[(co> upper_fence)|(co<lower_fence)]\n",
    "outliers"
   ]
  },
  {
   "cell_type": "code",
   "execution_count": 17,
   "id": "b9cf3546-85f7-4b2e-8067-384e137a6a94",
   "metadata": {},
   "outputs": [
    {
     "data": {
      "text/plain": [
       "array([False, False, False, ..., False, False, False])"
      ]
     },
     "execution_count": 17,
     "metadata": {},
     "output_type": "execute_result"
    }
   ],
   "source": [
    "#mask for outliers\n",
    "mask = co.index.isin(outliers.index)\n",
    "mask"
   ]
  },
  {
   "cell_type": "code",
   "execution_count": 19,
   "id": "350bac89-aa5f-470b-9473-05340eca9527",
   "metadata": {},
   "outputs": [
    {
     "data": {
      "text/plain": [
       "[<matplotlib.lines.Line2D at 0x1eacb248d00>]"
      ]
     },
     "execution_count": 19,
     "metadata": {},
     "output_type": "execute_result"
    }
   ],
   "source": [
    "plt.plot(co[~mask],label='normal', color ='blue',\n",
    "        marker='o', markersize =3, linestyle= 'None')\n",
    "#plt.plot(outliers,labee = 'outliers', color = 'red',\n",
    "#        marker='x',markersize =3,linestyle ='None')"
   ]
  },
  {
   "cell_type": "code",
   "execution_count": 20,
   "id": "c47da50e-a39d-4058-a28c-31880d396173",
   "metadata": {},
   "outputs": [
    {
     "name": "stdout",
     "output_type": "stream",
     "text": [
      "Datetime\n",
      "2004-03-11 19:00:00   NaN\n",
      "2004-03-11 20:00:00   NaN\n",
      "2004-03-12 20:00:00   NaN\n",
      "2004-03-14 20:00:00   NaN\n",
      "2004-03-15 09:00:00   NaN\n",
      "                       ..\n",
      "2005-03-23 19:00:00   NaN\n",
      "2005-03-23 20:00:00   NaN\n",
      "2005-03-24 19:00:00   NaN\n",
      "2005-03-24 20:00:00   NaN\n",
      "2005-03-25 19:00:00   NaN\n",
      "Name: CO(GT), Length: 224, dtype: float64\n"
     ]
    },
    {
     "data": {
      "text/plain": [
       "<AxesSubplot:xlabel='Datetime'>"
      ]
     },
     "execution_count": 20,
     "metadata": {},
     "output_type": "execute_result"
    }
   ],
   "source": [
    "#removing the outliers \n",
    "co_refined = co.copy()\n",
    "co_refined[mask]= np.nan\n",
    "print(co_refined[mask])\n",
    "co_refined.plot()\n"
   ]
  },
  {
   "cell_type": "code",
   "execution_count": 21,
   "id": "880d0ef9-e54e-488f-ad97-5ecdd26f8a1a",
   "metadata": {},
   "outputs": [
    {
     "data": {
      "text/plain": [
       "<AxesSubplot:xlabel='Datetime'>"
      ]
     },
     "execution_count": 21,
     "metadata": {},
     "output_type": "execute_result"
    }
   ],
   "source": [
    "#linear interplotion for reconstructing outliers\n",
    "co_refined.interpolate(inplace=True)\n",
    "co_refined.plot()"
   ]
  },
  {
   "cell_type": "code",
   "execution_count": 33,
   "id": "afa19366-ca19-483d-9961-87fd18999654",
   "metadata": {},
   "outputs": [
    {
     "data": {
      "text/plain": [
       "<seaborn.axisgrid.FacetGrid at 0x15bd6952730>"
      ]
     },
     "execution_count": 33,
     "metadata": {},
     "output_type": "execute_result"
    },
    {
     "data": {
      "image/png": "[encoded data removed]",
      "text/plain": [
       "<Figure size 360x360 with 1 Axes>"
      ]
     },
     "metadata": {
      "needs_background": "light"
     },
     "output_type": "display_data"
    }
   ],
   "source": [
    "\"\"\"\n",
    "detecting outliers with z-scores\n",
    "\"\"\"\n",
    "#z-scores based method\n",
    "import seaborn as sns\n",
    "sns.displot(co)"
   ]
  },
  {
   "cell_type": "code",
   "execution_count": 34,
   "id": "1981f217-2bf0-465f-80d9-3c1896becde3",
   "metadata": {},
   "outputs": [
    {
     "name": "stdout",
     "output_type": "stream",
     "text": [
      "2.126146200705357 1.4369815748596482\n"
     ]
    }
   ],
   "source": [
    "#mean,standard deciation\n",
    "mean = np.mean(co)\n",
    "std = np.std(co)\n",
    "print(mean, std)"
   ]
  },
  {
   "cell_type": "code",
   "execution_count": 35,
   "id": "bcb54039-6a41-4558-869f-93ce2ab37a0a",
   "metadata": {},
   "outputs": [
    {
     "name": "stdout",
     "output_type": "stream",
     "text": [
      "3.3221398818289734\n",
      "3.113368937755246\n",
      "4.157223658123882\n",
      "4.087633343432639\n",
      "3.0437786230640036\n",
      "3.113368937755246\n",
      "3.8092720846676698\n",
      "3.182959252446488\n",
      "3.113368937755246\n",
      "3.600501140593942\n",
      "3.5309108259027\n",
      "3.0437786230640036\n",
      "3.0437786230640036\n",
      "3.182959252446488\n",
      "3.0437786230640036\n",
      "3.600501140593942\n",
      "3.182959252446488\n",
      "3.7396817699764275\n",
      "3.0437786230640036\n",
      "3.182959252446488\n",
      "3.3917301965202156\n",
      "4.087633343432639\n",
      "3.878862399358912\n",
      "3.2525495671377302\n",
      "4.36599460219761\n",
      "3.2525495671377302\n",
      "4.018043028741397\n",
      "4.36599460219761\n",
      "4.087633343432639\n",
      "4.36599460219761\n",
      "5.131488063801275\n",
      "3.0437786230640036\n",
      "3.113368937755246\n",
      "3.7396817699764275\n",
      "3.2525495671377302\n",
      "4.018043028741397\n",
      "4.087633343432639\n",
      "4.922717119727547\n",
      "3.3917301965202156\n",
      "3.786075313103922\n",
      "4.180420429687629\n",
      "4.574765546271336\n",
      "4.157223658123882\n",
      "4.087633343432639\n",
      "3.113368937755246\n",
      "3.2525495671377302\n",
      "3.9484527140501537\n",
      "5.618620266639971\n",
      "3.113368937755246\n",
      "3.7396817699764275\n",
      "3.5309108259027\n",
      "4.296404287506367\n",
      "4.505175231580093\n",
      "3.3221398818289734\n",
      "3.0437786230640036\n",
      "3.113368937755246\n",
      "3.600501140593942\n",
      "3.600501140593942\n",
      "5.618620266639971\n",
      "6.801655616391093\n",
      "6.523294357626123\n",
      "4.296404287506367\n",
      "3.2525495671377302\n",
      "4.36599460219761\n",
      "3.878862399358912\n",
      "5.54902995194873\n",
      "3.878862399358912\n",
      "4.157223658123882\n",
      "3.113368937755246\n",
      "3.2525495671377302\n",
      "3.7396817699764275\n",
      "3.878862399358912\n",
      "5.061897749110033\n",
      "3.9484527140501537\n",
      "3.113368937755246\n",
      "3.3221398818289734\n",
      "5.409849322566245\n",
      "3.3221398818289734\n",
      "3.6700914552851853\n",
      "4.992307434418791\n",
      "3.6700914552851853\n",
      "3.113368937755246\n",
      "3.600501140593942\n",
      "3.7396817699764275\n",
      "4.505175231580093\n",
      "4.853126805036306\n",
      "4.505175231580093\n",
      "3.113368937755246\n",
      "4.4355849168888515\n",
      "4.574765546271336\n",
      "4.853126805036306\n",
      "3.5309108259027\n",
      "3.113368937755246\n",
      "3.0437786230640036\n",
      "3.3221398818289734\n",
      "4.018043028741397\n",
      "3.182959252446488\n",
      "3.2525495671377302\n",
      "3.182959252446488\n",
      "3.2525495671377302\n",
      "4.505175231580093\n",
      "4.574765546271336\n",
      "3.2525495671377302\n",
      "3.2525495671377302\n",
      "3.182959252446488\n",
      "3.182959252446488\n",
      "4.36599460219761\n",
      "3.461320511211458\n",
      "3.113368937755246\n",
      "3.0437786230640036\n",
      "3.461320511211458\n",
      "3.0437786230640036\n",
      "3.0437786230640036\n",
      "3.6700914552851853\n",
      "3.5309108259027\n",
      "3.7396817699764275\n"
     ]
    }
   ],
   "source": [
    "#calculate Z-score for each data points\n",
    "outliers =[]\n",
    "thers = 3 #Z-score thershold\n",
    "\n",
    "for i in co:\n",
    "    z_score = (i - mean )/ std\n",
    "    if (np.abs(z_score) > thers):\n",
    "        print(z_score)\n",
    "        outliers.append(i)"
   ]
  },
  {
   "cell_type": "code",
   "execution_count": 41,
   "id": "f4da33e5-aac2-4925-ae19-b3532cad3b82",
   "metadata": {},
   "outputs": [],
   "source": [
    "#simplified version of filtering outliers\n",
    "outliers =co.loc[np.abs((co - mean)/std) > 3].copy()"
   ]
  },
  {
   "cell_type": "code",
   "execution_count": 42,
   "id": "69e27ef1-98c4-4ca3-a131-154dd120d4a1",
   "metadata": {},
   "outputs": [],
   "source": [
    "#mask for outliers\n",
    "mask = co.index.isin(outliers.index)"
   ]
  },
  {
   "cell_type": "code",
   "execution_count": 45,
   "id": "82c46d5a-b707-4c68-b943-b79c8c1283c0",
   "metadata": {},
   "outputs": [
    {
     "data": {
      "text/plain": [
       "<matplotlib.legend.Legend at 0x15bda3089a0>"
      ]
     },
     "execution_count": 45,
     "metadata": {},
     "output_type": "execute_result"
    },
    {
     "data": {
      "image/png": "[encoded data removed]",
      "text/plain": [
       "<Figure size 360x360 with 1 Axes>"
      ]
     },
     "metadata": {
      "needs_background": "light"
     },
     "output_type": "display_data"
    }
   ],
   "source": [
    "#comparsion of distribution before/after outlier removal\n",
    "#sns.displot(co, axlabel = 'CO(GT)',label='original')\n",
    "sns.displot(co[~mask], label= 'outliers removed')\n",
    "plt.legend(loc = 'best')\n",
    "\n",
    "#[exer] adjust thres"
   ]
  },
  {
   "cell_type": "code",
   "execution_count": 1,
   "id": "908ff55d-6b5d-4c84-9ed7-d1990dbb15fe",
   "metadata": {},
   "outputs": [],
   "source": [
    "#flooring and capping\n",
    "#floor = co.quantile(0,1)\n",
    "#cap = co.quantile(0,9)\n"
   ]
  },
  {
   "cell_type": "code",
   "execution_count": 2,
   "id": "d34b78e5-d95f-47db-a2e1-075611770814",
   "metadata": {},
   "outputs": [],
   "source": [
    "#visualize the result\n",
    "#co.loc[co< floor] = floor\n",
    "#co.loc[co> cap] =cap"
   ]
  },
  {
   "cell_type": "code",
   "execution_count": 52,
   "id": "b946cef2-9b3e-4293-8a49-ea8ec4545191",
   "metadata": {},
   "outputs": [
    {
     "data": {
      "text/plain": [
       "<AxesSubplot:xlabel='Datetime'>"
      ]
     },
     "execution_count": 52,
     "metadata": {},
     "output_type": "execute_result"
    },
    {
     "data": {
      "image/png": "[encoded data removed]",
      "text/plain": [
       "<Figure size 432x288 with 1 Axes>"
      ]
     },
     "metadata": {
      "needs_background": "light"
     },
     "output_type": "display_data"
    }
   ],
   "source": [
    "co.plot()"
   ]
  },
  {
   "cell_type": "code",
   "execution_count": null,
   "id": "5d64ec9a-7638-48c3-9fae-114927e1692b",
   "metadata": {},
   "outputs": [],
   "source": []
  }
 ],
 "metadata": {
  "kernelspec": {
   "display_name": "Python 3",
   "language": "python",
   "name": "python3"
  },
  "language_info": {
   "codemirror_mode": {
    "name": "ipython",
    "version": 3
   },
   "file_extension": ".py",
   "mimetype": "text/x-python",
   "name": "python",
   "nbconvert_exporter": "python",
   "pygments_lexer": "ipython3",
   "version": "3.8.8"
  }
 },
 "nbformat": 4,
 "nbformat_minor": 5
}
