{
 "cells": [
  {
   "cell_type": "code",
   "execution_count": 11,
   "id": "014fb703-971a-45b1-bf33-0d35f04b60ea",
   "metadata": {},
   "outputs": [
    {
     "name": "stdout",
     "output_type": "stream",
     "text": [
      "[1, 4, 5, 6, 7, 8, 11, 15, 16]\n",
      "[]\n",
      "[2, 5, 7, 13, 16, 17]\n",
      "['junse', 'jimmy', 'sinji']\n",
      "['jusne', 1, 5]\n",
      "[['a', 4], [2, 'f']]\n",
      "대한\n",
      "민국\n",
      "만세\n",
      "아름\n",
      "다운\n",
      "아름\n",
      "만세\n"
     ]
    }
   ],
   "source": [
    "\"\"\"\n",
    "lists\n",
    "\"\"\"\n",
    "\n",
    "primes = [1,4,5,6,7,8,11,15,16]\n",
    "print(primes)\n",
    "\n",
    "empty_list = []\n",
    "print(empty_list)\n",
    "\n",
    "numbers = [2,5,7,13,16,17]\n",
    "names = ['junse', 'jimmy','sinji']\n",
    "mixed =['jusne',1,5]\n",
    "list_of_lists = [['a',4],[2,'f']]\n",
    "\n",
    "print(numbers)\n",
    "print(names)\n",
    "print(mixed)\n",
    "print(list_of_lists)\n",
    "\n",
    "names = ['대한','민국','만세','아름','다운']\n",
    "print(names[0]) #first data\n",
    "print(names[1]) #second data\n",
    "print(names[2])\n",
    "print(names[3])\n",
    "\n",
    "print(names[-1]) #last data\n",
    "print(names[-2])\n",
    "print(names[-3])"
   ]
  },
  {
   "cell_type": "code",
   "execution_count": 18,
   "id": "c7ce3cfd-0529-42a2-8319-b24bdc4e5900",
   "metadata": {},
   "outputs": [
    {
     "name": "stdout",
     "output_type": "stream",
     "text": [
      "['갯마을차차차', '홍천기', '원더우먼', '검은태양', '유미의 세포들', '인간실격', '오징어게임']\n",
      "['홍천기', '원더우먼', '검은태양']\n",
      "['펜트하우스', '원더우먼', '검은태양']\n",
      "['갯마을차차차', '홍천기', '원더우먼', '검은태양', '유미의 세포들', '인간실격', '오징어게임']\n",
      "['갯마을차차차', '홍천기', '원더우먼']\n",
      "['검은태양', '유미의 세포들', '인간실격', '오징어게임']\n",
      "['갯마을차차차', '홍천기', '원더우먼', '검은태양', '유미의 세포들', '인간실격', '오징어게임']\n"
     ]
    }
   ],
   "source": [
    "\"\"\"\n",
    "list slicing\n",
    "\"\"\"\n",
    "tv_dramas = ['갯마을차차차','홍천기','원더우먼','검은태양','유미의 세포들','인간실격','오징어게임']\n",
    "dramas_slice = tv_dramas [1:4]\n",
    "\n",
    "print (tv_dramas)\n",
    "print (dramas_slice)\n",
    "dramas_slice[0] = '펜트하우스'\n",
    "print (dramas_slice)\n",
    "print (tv_dramas)\n",
    "\n",
    "print(tv_dramas[:3])\n",
    "print(tv_dramas[3:])\n",
    "print(tv_dramas[:])"
   ]
  },
  {
   "cell_type": "code",
   "execution_count": 15,
   "id": "bb21ad48-026e-456a-b12d-2b83ba785a4b",
   "metadata": {},
   "outputs": [
    {
     "name": "stdout",
     "output_type": "stream",
     "text": [
      "닭갈비\n",
      "['밥술술', '퓨전한식', '간장돼지고기덮밥']\n",
      "['삼양라면', '신라면', '안성탕면', '짜파게티', '불닭볶음면']\n",
      "5\n",
      "2\n",
      "['coffee', 'latte', 'ade']\n",
      "['아메리카노', '라떼', '카페 모카', '에스프레소', '블랙티']\n",
      "['기훈', '상우', '준호', '새벽', '덕수']\n",
      "['기훈', '상우', '준호', '새벽']\n",
      "['상우', '준호', '새벽']\n",
      "[1, 2, 4, 5, 9]\n",
      "['기훈', '덕수', '상우', '새벽', '일남', '준호']\n",
      "[3, 4, 6, 7, 8]\n"
     ]
    }
   ],
   "source": [
    "\"\"\"\n",
    "dimensional lists\n",
    "\"\"\"\n",
    "restaurants =[['밥술술','퓨전한식','매운토마토소고기덮밥'],['오쩜오','한식','닭갈비'],['매드포갈릭','양식','갈릭 스테이크']]\n",
    "print(restaurants[1][2])\n",
    "restaurants[0][2] = '간장돼지고기덮밥'\n",
    "print (restaurants[0])\n",
    "\n",
    "\"\"\"\n",
    "adding lists together\n",
    "\"\"\"\n",
    "noodle_one = ['삼양라면','신라면','안성탕면']\n",
    "noodle_two = ['짜파게티','불닭볶음면']\n",
    "total_noodle = noodle_one + noodle_two \n",
    "print (total_noodle)\n",
    "\n",
    "#len() = 리스트 크기를 리턴\n",
    "bag = [3,6,7,5,4]\n",
    "size = len(bag)\n",
    "print(size)\n",
    "\n",
    "#count() = 아이템의 개수를 리턴\n",
    "bagpack = ['pen','phone','laptop','coffee','pen','note'] # 중복혀용 \n",
    "numPen = bagpack.count('pen')\n",
    "print (numPen)\n",
    "\n",
    "#append() = 아이템을 끝에 추가\n",
    "orders = ['coffee','latte']\n",
    "orders.append('ade')\n",
    "print(orders)\n",
    "\n",
    "#insert() = 아이템을 특정위치에 추가\n",
    "coffee = ['아메리카노','라떼','에스프레소','블랙티']\n",
    "coffee.insert(2,'카페 모카')\n",
    "print(coffee)\n",
    "\n",
    "#pop() = 특정위치에 아이템을 삭제\n",
    "Squid_game =['기훈','상우','일남','준호','새벽','덕수']\n",
    "Squid_game.pop(2)\n",
    "print(Squid_game)\n",
    "Squid_game.pop()\n",
    "print(Squid_game)\n",
    "\n",
    "#remove() = 특정 아이템을 삭제\n",
    "Squid_game.remove('기훈')\n",
    "print(Squid_game)\n",
    "\n",
    "#sort() = 리스트 내 아이템을 정렬\n",
    "numbers = [2,9,4,5,1]\n",
    "numbers.sort()\n",
    "print(numbers)\n",
    "Squid_game =['기훈','상우','일남','준호','새벽','덕수']\n",
    "Squid_game.sort()\n",
    "print(Squid_game)\n",
    "\n",
    "#sorted() = 정렬된 리스트를 리턴\n",
    "numbers = [8,7,4,6,3]\n",
    "sorted_numbers = sorted(numbers)\n",
    "print (sorted_numbers)"
   ]
  },
  {
   "cell_type": "code",
   "execution_count": null,
   "id": "7e34418b-2317-4039-8387-1216233a0cda",
   "metadata": {},
   "outputs": [],
   "source": []
  }
 ],
 "metadata": {
  "kernelspec": {
   "display_name": "Python 3",
   "language": "python",
   "name": "python3"
  },
  "language_info": {
   "codemirror_mode": {
    "name": "ipython",
    "version": 3
   },
   "file_extension": ".py",
   "mimetype": "text/x-python",
   "name": "python",
   "nbconvert_exporter": "python",
   "pygments_lexer": "ipython3",
   "version": "3.8.8"
  }
 },
 "nbformat": 4,
 "nbformat_minor": 5
}
