{
 "cells": [
  {
   "cell_type": "code",
   "execution_count": 1,
   "id": "4b9ce099-295c-40e0-9c94-3b943d6e1b3b",
   "metadata": {},
   "outputs": [
    {
     "name": "stderr",
     "output_type": "stream",
     "text": [
      "<ipython-input-1-e23ecb89d3de>:3: FutureWarning: The pandas.datetime class is deprecated and will be removed from pandas in a future version. Import from datetime module instead.\n",
      "  from pandas import datetime\n"
     ]
    },
    {
     "data": {
      "text/html": [
       "<div>\n",
       "<style scoped>\n",
       "    .dataframe tbody tr th:only-of-type {\n",
       "        vertical-align: middle;\n",
       "    }\n",
       "\n",
       "    .dataframe tbody tr th {\n",
       "        vertical-align: top;\n",
       "    }\n",
       "\n",
       "    .dataframe thead th {\n",
       "        text-align: right;\n",
       "    }\n",
       "</style>\n",
       "<table border=\"1\" class=\"dataframe\">\n",
       "  <thead>\n",
       "    <tr style=\"text-align: right;\">\n",
       "      <th></th>\n",
       "      <th>CO(GT)</th>\n",
       "      <th>PT08.S1(CO)</th>\n",
       "      <th>PT08.S2(NMHC)</th>\n",
       "      <th>NOx(GT)</th>\n",
       "      <th>PT08.S3(NOx)</th>\n",
       "      <th>NO2(GT)</th>\n",
       "      <th>PT08.S4(NO2)</th>\n",
       "      <th>PT08.S5(O3)</th>\n",
       "      <th>RH</th>\n",
       "      <th>AH</th>\n",
       "      <th>C6H6(GT)</th>\n",
       "    </tr>\n",
       "    <tr>\n",
       "      <th>Datetime</th>\n",
       "      <th></th>\n",
       "      <th></th>\n",
       "      <th></th>\n",
       "      <th></th>\n",
       "      <th></th>\n",
       "      <th></th>\n",
       "      <th></th>\n",
       "      <th></th>\n",
       "      <th></th>\n",
       "      <th></th>\n",
       "      <th></th>\n",
       "    </tr>\n",
       "  </thead>\n",
       "  <tbody>\n",
       "    <tr>\n",
       "      <th>2004-03-10 18:00:00</th>\n",
       "      <td>2.6</td>\n",
       "      <td>1360.0</td>\n",
       "      <td>1046.0</td>\n",
       "      <td>166.0</td>\n",
       "      <td>1056.0</td>\n",
       "      <td>113.0</td>\n",
       "      <td>1692.0</td>\n",
       "      <td>1268.0</td>\n",
       "      <td>48.9</td>\n",
       "      <td>0.7578</td>\n",
       "      <td>11.9</td>\n",
       "    </tr>\n",
       "    <tr>\n",
       "      <th>2004-03-10 19:00:00</th>\n",
       "      <td>2.0</td>\n",
       "      <td>1292.0</td>\n",
       "      <td>955.0</td>\n",
       "      <td>103.0</td>\n",
       "      <td>1174.0</td>\n",
       "      <td>92.0</td>\n",
       "      <td>1559.0</td>\n",
       "      <td>972.0</td>\n",
       "      <td>47.7</td>\n",
       "      <td>0.7255</td>\n",
       "      <td>9.4</td>\n",
       "    </tr>\n",
       "    <tr>\n",
       "      <th>2004-03-10 20:00:00</th>\n",
       "      <td>2.2</td>\n",
       "      <td>1402.0</td>\n",
       "      <td>939.0</td>\n",
       "      <td>131.0</td>\n",
       "      <td>1140.0</td>\n",
       "      <td>114.0</td>\n",
       "      <td>1555.0</td>\n",
       "      <td>1074.0</td>\n",
       "      <td>54.0</td>\n",
       "      <td>0.7502</td>\n",
       "      <td>9.0</td>\n",
       "    </tr>\n",
       "    <tr>\n",
       "      <th>2004-03-10 21:00:00</th>\n",
       "      <td>2.2</td>\n",
       "      <td>1376.0</td>\n",
       "      <td>948.0</td>\n",
       "      <td>172.0</td>\n",
       "      <td>1092.0</td>\n",
       "      <td>122.0</td>\n",
       "      <td>1584.0</td>\n",
       "      <td>1203.0</td>\n",
       "      <td>60.0</td>\n",
       "      <td>0.7867</td>\n",
       "      <td>9.2</td>\n",
       "    </tr>\n",
       "    <tr>\n",
       "      <th>2004-03-10 22:00:00</th>\n",
       "      <td>1.6</td>\n",
       "      <td>1272.0</td>\n",
       "      <td>836.0</td>\n",
       "      <td>131.0</td>\n",
       "      <td>1205.0</td>\n",
       "      <td>116.0</td>\n",
       "      <td>1490.0</td>\n",
       "      <td>1110.0</td>\n",
       "      <td>59.6</td>\n",
       "      <td>0.7888</td>\n",
       "      <td>6.5</td>\n",
       "    </tr>\n",
       "  </tbody>\n",
       "</table>\n",
       "</div>"
      ],
      "text/plain": [
       "                     CO(GT)  PT08.S1(CO)  PT08.S2(NMHC)  NOx(GT)  \\\n",
       "Datetime                                                           \n",
       "2004-03-10 18:00:00     2.6       1360.0         1046.0    166.0   \n",
       "2004-03-10 19:00:00     2.0       1292.0          955.0    103.0   \n",
       "2004-03-10 20:00:00     2.2       1402.0          939.0    131.0   \n",
       "2004-03-10 21:00:00     2.2       1376.0          948.0    172.0   \n",
       "2004-03-10 22:00:00     1.6       1272.0          836.0    131.0   \n",
       "\n",
       "                     PT08.S3(NOx)  NO2(GT)  PT08.S4(NO2)  PT08.S5(O3)    RH  \\\n",
       "Datetime                                                                      \n",
       "2004-03-10 18:00:00        1056.0    113.0        1692.0       1268.0  48.9   \n",
       "2004-03-10 19:00:00        1174.0     92.0        1559.0        972.0  47.7   \n",
       "2004-03-10 20:00:00        1140.0    114.0        1555.0       1074.0  54.0   \n",
       "2004-03-10 21:00:00        1092.0    122.0        1584.0       1203.0  60.0   \n",
       "2004-03-10 22:00:00        1205.0    116.0        1490.0       1110.0  59.6   \n",
       "\n",
       "                         AH  C6H6(GT)  \n",
       "Datetime                               \n",
       "2004-03-10 18:00:00  0.7578      11.9  \n",
       "2004-03-10 19:00:00  0.7255       9.4  \n",
       "2004-03-10 20:00:00  0.7502       9.0  \n",
       "2004-03-10 21:00:00  0.7867       9.2  \n",
       "2004-03-10 22:00:00  0.7888       6.5  "
      ]
     },
     "execution_count": 1,
     "metadata": {},
     "output_type": "execute_result"
    }
   ],
   "source": [
    "import pandas as pd\n",
    "import numpy as np\n",
    "from pandas import datetime\n",
    "from matplotlib import pyplot as plt\n",
    "\n",
    "\"\"\"\n",
    "Load AirQualityUCI Data\n",
    "\"\"\"\n",
    "\n",
    "def parser(x):\n",
    "    return datetime.strptime(x, '%Y-%m-%d %H:%M:%S')\n",
    "\n",
    "input_file = './data/AirQualityUCI_refined.csv'\n",
    "\n",
    "df = pd.read_csv(input_file,\n",
    "                 index_col=[0],\n",
    "                 parse_dates=[0],\n",
    "                 date_parser=parser)\n",
    "\n",
    "df.head()"
   ]
  },
  {
   "cell_type": "code",
   "execution_count": 7,
   "id": "8a395fe4-f2b0-4269-af0d-ce75977942c4",
   "metadata": {},
   "outputs": [
    {
     "name": "stdout",
     "output_type": "stream",
     "text": [
      "Using matplotlib backend: Qt5Agg\n"
     ]
    }
   ],
   "source": [
    "# Visualization setup\n",
    "%matplotlib\n",
    "%config InlineBackend.figure_format = 'svg'\n",
    "\n",
    "from matplotlib import pyplot as plt\n",
    "plt.rcParams['figure.figsize'] = [10, 5]\n",
    "plt.ion() # enable the interactive mode\n",
    "\n",
    "import seaborn as sns\n",
    "sns.set()  # set plot styles"
   ]
  },
  {
   "cell_type": "code",
   "execution_count": 9,
   "id": "8c293d0b-5930-453c-965d-f76c598a09f2",
   "metadata": {},
   "outputs": [],
   "source": [
    "# Visualize the 'CO(GT)' column\n",
    "df['CO(GT)'].interpolate(inplace=True)"
   ]
  },
  {
   "cell_type": "code",
   "execution_count": 10,
   "id": "a7b34e73-74c2-4de8-b05c-6a5e7832047f",
   "metadata": {},
   "outputs": [
    {
     "name": "stdout",
     "output_type": "stream",
     "text": [
      "11.9 0.0\n"
     ]
    }
   ],
   "source": [
    "\"\"\"\n",
    "Binning\n",
    "\"\"\"\n",
    "\n",
    "max_val = df['CO(GT)'].max()\n",
    "min_val = df['CO(GT)'].min()\n",
    "print(max_val, min_val)"
   ]
  },
  {
   "cell_type": "code",
   "execution_count": 11,
   "id": "006e60fc-ad25-4b30-baab-b9ed852b7cc7",
   "metadata": {},
   "outputs": [
    {
     "data": {
      "text/plain": [
       "array([ 0.  ,  2.38,  4.76,  7.14,  9.52, 11.9 ])"
      ]
     },
     "execution_count": 11,
     "metadata": {},
     "output_type": "execute_result"
    }
   ],
   "source": [
    "# Make interval values\n",
    "bins = np.linspace(min_val, max_val, 6)\n",
    "bins"
   ]
  },
  {
   "cell_type": "code",
   "execution_count": 12,
   "id": "e481e9a4-2fa8-4518-9f9d-150d2187de2c",
   "metadata": {},
   "outputs": [],
   "source": [
    "# Labels for each bin\n",
    "labels=['0 <=x<2.38', '2.38<=x<4.76', '4.76<=x<7.14',\n",
    "       '7.14<=x<9.52', '9.52<=x<11.9']\n"
   ]
  },
  {
   "cell_type": "code",
   "execution_count": 13,
   "id": "c76284f3-bbc4-4ffb-b079-a53d5d12b69e",
   "metadata": {},
   "outputs": [
    {
     "name": "stdout",
     "output_type": "stream",
     "text": [
      "<class 'pandas.core.frame.DataFrame'>\n",
      "DatetimeIndex: 9357 entries, 2004-03-10 18:00:00 to 2005-04-04 14:00:00\n",
      "Data columns (total 12 columns):\n",
      " #   Column         Non-Null Count  Dtype   \n",
      "---  ------         --------------  -----   \n",
      " 0   CO(GT)         9357 non-null   float64 \n",
      " 1   PT08.S1(CO)    8991 non-null   float64 \n",
      " 2   PT08.S2(NMHC)  8991 non-null   float64 \n",
      " 3   NOx(GT)        7718 non-null   float64 \n",
      " 4   PT08.S3(NOx)   8991 non-null   float64 \n",
      " 5   NO2(GT)        7715 non-null   float64 \n",
      " 6   PT08.S4(NO2)   8991 non-null   float64 \n",
      " 7   PT08.S5(O3)    8991 non-null   float64 \n",
      " 8   RH             8991 non-null   float64 \n",
      " 9   AH             8991 non-null   float64 \n",
      " 10  C6H6(GT)       9357 non-null   float64 \n",
      " 11  bins           9357 non-null   category\n",
      "dtypes: category(1), float64(11)\n",
      "memory usage: 886.6 KB\n"
     ]
    }
   ],
   "source": [
    "# Convert the numerical values into the categorical values\n",
    "df['bins'] = pd.cut(df['CO(GT)'], bins=bins,\n",
    "                    labels=labels, include_lowest=True)\n",
    "df.info()\n"
   ]
  },
  {
   "cell_type": "code",
   "execution_count": 14,
   "id": "63d0dcab-c946-4e75-95bf-e873e63b0d49",
   "metadata": {},
   "outputs": [
    {
     "data": {
      "text/plain": [
       "Datetime\n",
       "2004-03-10 18:00:00    2.38<=x<4.76\n",
       "2004-03-10 19:00:00      0 <=x<2.38\n",
       "2004-03-10 20:00:00      0 <=x<2.38\n",
       "2004-03-10 21:00:00      0 <=x<2.38\n",
       "2004-03-10 22:00:00      0 <=x<2.38\n",
       "2004-03-10 23:00:00      0 <=x<2.38\n",
       "2004-03-11 00:00:00      0 <=x<2.38\n",
       "2004-03-11 01:00:00      0 <=x<2.38\n",
       "2004-03-11 02:00:00      0 <=x<2.38\n",
       "2004-03-11 03:00:00      0 <=x<2.38\n",
       "2004-03-11 04:00:00      0 <=x<2.38\n",
       "2004-03-11 05:00:00      0 <=x<2.38\n",
       "2004-03-11 06:00:00      0 <=x<2.38\n",
       "2004-03-11 07:00:00      0 <=x<2.38\n",
       "2004-03-11 08:00:00      0 <=x<2.38\n",
       "2004-03-11 09:00:00      0 <=x<2.38\n",
       "2004-03-11 10:00:00      0 <=x<2.38\n",
       "2004-03-11 11:00:00      0 <=x<2.38\n",
       "2004-03-11 12:00:00      0 <=x<2.38\n",
       "2004-03-11 13:00:00      0 <=x<2.38\n",
       "2004-03-11 14:00:00    2.38<=x<4.76\n",
       "2004-03-11 15:00:00      0 <=x<2.38\n",
       "2004-03-11 16:00:00      0 <=x<2.38\n",
       "2004-03-11 17:00:00    2.38<=x<4.76\n",
       "2004-03-11 18:00:00    4.76<=x<7.14\n",
       "2004-03-11 19:00:00    4.76<=x<7.14\n",
       "2004-03-11 20:00:00    4.76<=x<7.14\n",
       "2004-03-11 21:00:00    2.38<=x<4.76\n",
       "2004-03-11 22:00:00      0 <=x<2.38\n",
       "2004-03-11 23:00:00      0 <=x<2.38\n",
       "2004-03-12 00:00:00      0 <=x<2.38\n",
       "2004-03-12 01:00:00      0 <=x<2.38\n",
       "2004-03-12 02:00:00      0 <=x<2.38\n",
       "2004-03-12 03:00:00      0 <=x<2.38\n",
       "2004-03-12 04:00:00      0 <=x<2.38\n",
       "2004-03-12 05:00:00      0 <=x<2.38\n",
       "2004-03-12 06:00:00      0 <=x<2.38\n",
       "2004-03-12 07:00:00      0 <=x<2.38\n",
       "2004-03-12 08:00:00    2.38<=x<4.76\n",
       "2004-03-12 09:00:00    2.38<=x<4.76\n",
       "2004-03-12 10:00:00    2.38<=x<4.76\n",
       "2004-03-12 11:00:00    2.38<=x<4.76\n",
       "2004-03-12 12:00:00      0 <=x<2.38\n",
       "2004-03-12 13:00:00    2.38<=x<4.76\n",
       "2004-03-12 14:00:00    2.38<=x<4.76\n",
       "2004-03-12 15:00:00    2.38<=x<4.76\n",
       "2004-03-12 16:00:00    2.38<=x<4.76\n",
       "2004-03-12 17:00:00    2.38<=x<4.76\n",
       "2004-03-12 18:00:00    2.38<=x<4.76\n",
       "2004-03-12 19:00:00    2.38<=x<4.76\n",
       "Name: bins, dtype: category\n",
       "Categories (5, object): ['0 <=x<2.38' < '2.38<=x<4.76' < '4.76<=x<7.14' < '7.14<=x<9.52' < '9.52<=x<11.9']"
      ]
     },
     "execution_count": 14,
     "metadata": {},
     "output_type": "execute_result"
    }
   ],
   "source": [
    "# Print bins\n",
    "df['bins'][:50]\n"
   ]
  },
  {
   "cell_type": "code",
   "execution_count": 15,
   "id": "34481c95-05e8-4dc2-a1b2-5a104af2e776",
   "metadata": {},
   "outputs": [],
   "source": [
    "# Visualize the histogram of bins\n",
    "plt.hist(df['bins'], bins=5)\n",
    "plt.show()"
   ]
  },
  {
   "cell_type": "code",
   "execution_count": 16,
   "id": "b4c94ab4-caae-4171-96db-6b0e276fc50e",
   "metadata": {},
   "outputs": [
    {
     "name": "stderr",
     "output_type": "stream",
     "text": [
      "C:\\Users\\user\\anaconda3\\lib\\site-packages\\seaborn\\distributions.py:2557: FutureWarning: `distplot` is a deprecated function and will be removed in a future version. Please adapt your code to use either `displot` (a figure-level function with similar flexibility) or `histplot` (an axes-level function for histograms).\n",
      "  warnings.warn(msg, FutureWarning)\n"
     ]
    },
    {
     "data": {
      "text/plain": [
       "<AxesSubplot:xlabel='PT08.S3(NOx)', ylabel='Density'>"
      ]
     },
     "execution_count": 16,
     "metadata": {},
     "output_type": "execute_result"
    }
   ],
   "source": [
    "\"\"\"\n",
    "Log Transform\n",
    "\"\"\"\n",
    "\n",
    "# Distribution of original data\n",
    "sns.distplot(df['PT08.S3(NOx)'])\n"
   ]
  },
  {
   "cell_type": "code",
   "execution_count": 17,
   "id": "fd465387-b549-40d4-b172-51c4fd267ef3",
   "metadata": {},
   "outputs": [],
   "source": [
    "# Calculate natural logarithm on 'CO(GT)' column\n",
    "df['log'] = np.log10(df['PT08.S3(NOx)'])"
   ]
  },
  {
   "cell_type": "code",
   "execution_count": 18,
   "id": "8c5b4c84-12bc-4a24-8b69-0d6e8f5fd716",
   "metadata": {},
   "outputs": [
    {
     "data": {
      "text/plain": [
       "CO(GT)                  0.0\n",
       "PT08.S1(CO)           647.0\n",
       "PT08.S2(NMHC)         383.0\n",
       "NOx(GT)                 2.0\n",
       "PT08.S3(NOx)          322.0\n",
       "NO2(GT)                 2.0\n",
       "PT08.S4(NO2)          551.0\n",
       "PT08.S5(O3)           221.0\n",
       "RH                      9.2\n",
       "AH                   0.1847\n",
       "C6H6(GT)                0.0\n",
       "bins             0 <=x<2.38\n",
       "log                2.507856\n",
       "dtype: object"
      ]
     },
     "execution_count": 18,
     "metadata": {},
     "output_type": "execute_result"
    }
   ],
   "source": [
    "# Min values for each column\n",
    "df.min()"
   ]
  },
  {
   "cell_type": "code",
   "execution_count": 19,
   "id": "2f2f8eea-2d88-4575-9bbf-2260e8ac9bb4",
   "metadata": {},
   "outputs": [
    {
     "name": "stderr",
     "output_type": "stream",
     "text": [
      "C:\\Users\\user\\anaconda3\\lib\\site-packages\\seaborn\\distributions.py:2557: FutureWarning: `distplot` is a deprecated function and will be removed in a future version. Please adapt your code to use either `displot` (a figure-level function with similar flexibility) or `histplot` (an axes-level function for histograms).\n",
      "  warnings.warn(msg, FutureWarning)\n"
     ]
    }
   ],
   "source": [
    "# Distribution after log transform\n",
    "sns.distplot(df['log'])\n",
    "plt.xlabel('log(PT08.S3(NoX))')\n",
    "plt.show()\n"
   ]
  },
  {
   "cell_type": "code",
   "execution_count": 20,
   "id": "39761ce7-2f2b-457a-ac74-1b72679691cf",
   "metadata": {},
   "outputs": [],
   "source": [
    "\"\"\"\n",
    "One-hot Encoding\n",
    "\"\"\"\n",
    "\n",
    "# Make a dataset\n",
    "\n",
    "emp_id = pd.Series([1, 2, 3, 4, 5])\n",
    "gender = pd.Series(['Male', 'Female', 'Female', 'Male', 'Female'])\n",
    "remarks = pd.Series(['Nice', 'Good', 'Great', 'Great', 'Nice'])\n",
    "\n",
    "df_emp = pd.DataFrame()\n",
    "df_emp['emp_id'] = emp_id\n",
    "df_emp['gender'] = gender\n",
    "df_emp['remarks'] = remarks\n"
   ]
  },
  {
   "cell_type": "code",
   "execution_count": 21,
   "id": "90fb56b2-158e-44c9-82e9-9267c577d909",
   "metadata": {},
   "outputs": [
    {
     "data": {
      "text/html": [
       "<div>\n",
       "<style scoped>\n",
       "    .dataframe tbody tr th:only-of-type {\n",
       "        vertical-align: middle;\n",
       "    }\n",
       "\n",
       "    .dataframe tbody tr th {\n",
       "        vertical-align: top;\n",
       "    }\n",
       "\n",
       "    .dataframe thead th {\n",
       "        text-align: right;\n",
       "    }\n",
       "</style>\n",
       "<table border=\"1\" class=\"dataframe\">\n",
       "  <thead>\n",
       "    <tr style=\"text-align: right;\">\n",
       "      <th></th>\n",
       "      <th>emp_id</th>\n",
       "      <th>gender</th>\n",
       "      <th>remarks</th>\n",
       "    </tr>\n",
       "  </thead>\n",
       "  <tbody>\n",
       "    <tr>\n",
       "      <th>0</th>\n",
       "      <td>1</td>\n",
       "      <td>Male</td>\n",
       "      <td>Nice</td>\n",
       "    </tr>\n",
       "    <tr>\n",
       "      <th>1</th>\n",
       "      <td>2</td>\n",
       "      <td>Female</td>\n",
       "      <td>Good</td>\n",
       "    </tr>\n",
       "    <tr>\n",
       "      <th>2</th>\n",
       "      <td>3</td>\n",
       "      <td>Female</td>\n",
       "      <td>Great</td>\n",
       "    </tr>\n",
       "    <tr>\n",
       "      <th>3</th>\n",
       "      <td>4</td>\n",
       "      <td>Male</td>\n",
       "      <td>Great</td>\n",
       "    </tr>\n",
       "    <tr>\n",
       "      <th>4</th>\n",
       "      <td>5</td>\n",
       "      <td>Female</td>\n",
       "      <td>Nice</td>\n",
       "    </tr>\n",
       "  </tbody>\n",
       "</table>\n",
       "</div>"
      ],
      "text/plain": [
       "   emp_id  gender remarks\n",
       "0       1    Male    Nice\n",
       "1       2  Female    Good\n",
       "2       3  Female   Great\n",
       "3       4    Male   Great\n",
       "4       5  Female    Nice"
      ]
     },
     "execution_count": 21,
     "metadata": {},
     "output_type": "execute_result"
    }
   ],
   "source": [
    "# Print DataFrame\n",
    "df_emp"
   ]
  },
  {
   "cell_type": "code",
   "execution_count": 22,
   "id": "1d2d5cb4-e7ff-40c2-83f0-c54389583dfc",
   "metadata": {},
   "outputs": [
    {
     "name": "stdout",
     "output_type": "stream",
     "text": [
      "[1 2 3 4 5]\n",
      "['Male' 'Female']\n",
      "['Nice' 'Good' 'Great']\n"
     ]
    }
   ],
   "source": [
    "# Print unique values for each column\n",
    "print(df_emp['emp_id'].unique())\n",
    "print(df_emp['gender'].unique())\n",
    "print(df_emp['remarks'].unique())"
   ]
  },
  {
   "cell_type": "code",
   "execution_count": 23,
   "id": "40a1ac89-ad19-44cd-8115-03b2c8c5917e",
   "metadata": {},
   "outputs": [
    {
     "data": {
      "text/html": [
       "<div>\n",
       "<style scoped>\n",
       "    .dataframe tbody tr th:only-of-type {\n",
       "        vertical-align: middle;\n",
       "    }\n",
       "\n",
       "    .dataframe tbody tr th {\n",
       "        vertical-align: top;\n",
       "    }\n",
       "\n",
       "    .dataframe thead th {\n",
       "        text-align: right;\n",
       "    }\n",
       "</style>\n",
       "<table border=\"1\" class=\"dataframe\">\n",
       "  <thead>\n",
       "    <tr style=\"text-align: right;\">\n",
       "      <th></th>\n",
       "      <th>emp_id</th>\n",
       "      <th>gender_Female</th>\n",
       "      <th>gender_Male</th>\n",
       "      <th>remarks_Good</th>\n",
       "      <th>remarks_Great</th>\n",
       "      <th>remarks_Nice</th>\n",
       "    </tr>\n",
       "  </thead>\n",
       "  <tbody>\n",
       "    <tr>\n",
       "      <th>0</th>\n",
       "      <td>1</td>\n",
       "      <td>0</td>\n",
       "      <td>1</td>\n",
       "      <td>0</td>\n",
       "      <td>0</td>\n",
       "      <td>1</td>\n",
       "    </tr>\n",
       "    <tr>\n",
       "      <th>1</th>\n",
       "      <td>2</td>\n",
       "      <td>1</td>\n",
       "      <td>0</td>\n",
       "      <td>1</td>\n",
       "      <td>0</td>\n",
       "      <td>0</td>\n",
       "    </tr>\n",
       "    <tr>\n",
       "      <th>2</th>\n",
       "      <td>3</td>\n",
       "      <td>1</td>\n",
       "      <td>0</td>\n",
       "      <td>0</td>\n",
       "      <td>1</td>\n",
       "      <td>0</td>\n",
       "    </tr>\n",
       "    <tr>\n",
       "      <th>3</th>\n",
       "      <td>4</td>\n",
       "      <td>0</td>\n",
       "      <td>1</td>\n",
       "      <td>0</td>\n",
       "      <td>1</td>\n",
       "      <td>0</td>\n",
       "    </tr>\n",
       "    <tr>\n",
       "      <th>4</th>\n",
       "      <td>5</td>\n",
       "      <td>1</td>\n",
       "      <td>0</td>\n",
       "      <td>0</td>\n",
       "      <td>0</td>\n",
       "      <td>1</td>\n",
       "    </tr>\n",
       "  </tbody>\n",
       "</table>\n",
       "</div>"
      ],
      "text/plain": [
       "   emp_id  gender_Female  gender_Male  remarks_Good  remarks_Great  \\\n",
       "0       1              0            1             0              0   \n",
       "1       2              1            0             1              0   \n",
       "2       3              1            0             0              1   \n",
       "3       4              0            1             0              1   \n",
       "4       5              1            0             0              0   \n",
       "\n",
       "   remarks_Nice  \n",
       "0             1  \n",
       "1             0  \n",
       "2             0  \n",
       "3             0  \n",
       "4             1  "
      ]
     },
     "execution_count": 23,
     "metadata": {},
     "output_type": "execute_result"
    }
   ],
   "source": [
    "# One-hot encoding the categorial values\n",
    "df_emp_encoded = pd.get_dummies(\n",
    "    df_emp, columns = ['gender', 'remarks'])\n",
    "\n",
    "df_emp_encoded\n"
   ]
  },
  {
   "cell_type": "code",
   "execution_count": 24,
   "id": "0e819c70-a849-406b-9694-5737d2b01cc9",
   "metadata": {},
   "outputs": [
    {
     "data": {
      "text/plain": [
       "<matplotlib.legend.Legend at 0x2062f137580>"
      ]
     },
     "execution_count": 24,
     "metadata": {},
     "output_type": "execute_result"
    }
   ],
   "source": [
    "\"\"\"\n",
    "Normalization\n",
    "\"\"\"\n",
    "\n",
    "# Visualize two columns of different scales\n",
    "plt.plot(df['CO(GT)'], label='CO')\n",
    "plt.plot(df['PT08.S2(NMHC)'], label='NMHC')\n",
    "plt.legend(loc='best')\n"
   ]
  },
  {
   "cell_type": "code",
   "execution_count": 26,
   "id": "85713bfd-f600-4ac5-8905-29518218a4ae",
   "metadata": {},
   "outputs": [
    {
     "data": {
      "text/plain": [
       "Datetime\n",
       "2004-03-10 18:00:00    0.218487\n",
       "2004-03-10 19:00:00    0.168067\n",
       "2004-03-10 20:00:00    0.184874\n",
       "2004-03-10 21:00:00    0.184874\n",
       "2004-03-10 22:00:00    0.134454\n",
       "                         ...   \n",
       "2005-04-04 10:00:00    0.260504\n",
       "2005-04-04 11:00:00    0.201681\n",
       "2005-04-04 12:00:00    0.201681\n",
       "2005-04-04 13:00:00    0.176471\n",
       "2005-04-04 14:00:00    0.184874\n",
       "Name: CO_Norm, Length: 9357, dtype: float64"
      ]
     },
     "execution_count": 26,
     "metadata": {},
     "output_type": "execute_result"
    }
   ],
   "source": [
    "# Normalize the 'CO(GT)' column\n",
    "co = df['CO(GT)'].copy()\n",
    "co_max = co.max()\n",
    "co_min = co.min()\n",
    "\n",
    "df['CO_Norm'] = (co - co_min) / (co_max - co_min)\n",
    "df['CO_Norm']"
   ]
  },
  {
   "cell_type": "code",
   "execution_count": 27,
   "id": "6ecdc4f9-dcef-4266-923e-275268b1849e",
   "metadata": {},
   "outputs": [
    {
     "data": {
      "text/plain": [
       "Datetime\n",
       "2004-03-10 18:00:00    0.362097\n",
       "2004-03-10 19:00:00    0.312398\n",
       "2004-03-10 20:00:00    0.303659\n",
       "2004-03-10 21:00:00    0.308575\n",
       "2004-03-10 22:00:00    0.247406\n",
       "                         ...   \n",
       "2005-04-04 10:00:00    0.392135\n",
       "2005-04-04 11:00:00    0.351720\n",
       "2005-04-04 12:00:00    0.371382\n",
       "2005-04-04 13:00:00    0.315674\n",
       "2005-04-04 14:00:00    0.362643\n",
       "Name: NMHC_Norm, Length: 9357, dtype: float64"
      ]
     },
     "execution_count": 27,
     "metadata": {},
     "output_type": "execute_result"
    }
   ],
   "source": [
    "# Normalize the 'PT08.S2(NMHC)' column\n",
    "nmhc = df['PT08.S2(NMHC)'].copy()\n",
    "nmhc_max = nmhc.max()\n",
    "nmhc_min = nmhc.min()\n",
    "\n",
    "df['NMHC_Norm'] = (nmhc - nmhc_min) / (nmhc_max - nmhc_min)\n",
    "df['NMHC_Norm']\n"
   ]
  },
  {
   "cell_type": "code",
   "execution_count": 28,
   "id": "5d453663-3fe6-479e-9eff-a9ff1811b981",
   "metadata": {},
   "outputs": [
    {
     "data": {
      "text/plain": [
       "<matplotlib.legend.Legend at 0x2062f815d00>"
      ]
     },
     "execution_count": 28,
     "metadata": {},
     "output_type": "execute_result"
    }
   ],
   "source": [
    "# Visualized normalized columns\n",
    "plt.plot(df['CO_Norm'], label='CO (normalized)')\n",
    "plt.plot(df['NMHC_Norm'], label='NMHC (normalized)')\n",
    "plt.legend(loc='best')\n"
   ]
  },
  {
   "cell_type": "code",
   "execution_count": 29,
   "id": "4581abec-c90d-4548-a5af-02aa5fc95f80",
   "metadata": {},
   "outputs": [
    {
     "data": {
      "text/plain": [
       "0    The Godfather, 1972, Francis Ford Coppola\n",
       "1               Contact, 1997, Robert Zemeckis\n",
       "2                 Parasite, 2019, Joon-ho Bong\n",
       "dtype: object"
      ]
     },
     "execution_count": 29,
     "metadata": {},
     "output_type": "execute_result"
    }
   ],
   "source": [
    "\"\"\"\n",
    "Feature Split\n",
    "\"\"\"\n",
    "\n",
    "# Make untidy movie data\n",
    "movies = pd.Series([\"The Godfather, 1972, Francis Ford Coppola\",\n",
    "                    \"Contact, 1997, Robert Zemeckis\",\n",
    "                   \"Parasite, 2019, Joon-ho Bong\"])\n",
    "\n",
    "movies"
   ]
  },
  {
   "cell_type": "code",
   "execution_count": 30,
   "id": "d2694d0e-f451-4f81-afe5-835b98dd7718",
   "metadata": {},
   "outputs": [
    {
     "name": "stdout",
     "output_type": "stream",
     "text": [
      "['The Godfather', 'Contact', 'Parasite']\n",
      "[' 1972', ' 1997', ' 2019']\n",
      "[' Francis Ford Coppola', ' Robert Zemeckis', ' Joon-ho Bong']\n"
     ]
    }
   ],
   "source": [
    "# Divide movie data into title, year, director columns\n",
    "\n",
    "lst_title = []\n",
    "lst_year = []\n",
    "lst_director = []\n",
    "\n",
    "for val in movies:\n",
    "    title, year, director = val.split(',')  # data split\n",
    "    lst_title.append(title)\n",
    "    lst_year.append(year)\n",
    "    lst_director.append(director)\n",
    "\n",
    "print(lst_title)\n",
    "print(lst_year)\n",
    "print(lst_director)"
   ]
  },
  {
   "cell_type": "code",
   "execution_count": 31,
   "id": "303b7895-87e4-4591-a350-96a105f4cace",
   "metadata": {},
   "outputs": [
    {
     "data": {
      "text/html": [
       "<div>\n",
       "<style scoped>\n",
       "    .dataframe tbody tr th:only-of-type {\n",
       "        vertical-align: middle;\n",
       "    }\n",
       "\n",
       "    .dataframe tbody tr th {\n",
       "        vertical-align: top;\n",
       "    }\n",
       "\n",
       "    .dataframe thead th {\n",
       "        text-align: right;\n",
       "    }\n",
       "</style>\n",
       "<table border=\"1\" class=\"dataframe\">\n",
       "  <thead>\n",
       "    <tr style=\"text-align: right;\">\n",
       "      <th></th>\n",
       "      <th>title</th>\n",
       "      <th>year</th>\n",
       "      <th>director</th>\n",
       "    </tr>\n",
       "  </thead>\n",
       "  <tbody>\n",
       "    <tr>\n",
       "      <th>0</th>\n",
       "      <td>The Godfather</td>\n",
       "      <td>1972</td>\n",
       "      <td>Francis Ford Coppola</td>\n",
       "    </tr>\n",
       "    <tr>\n",
       "      <th>1</th>\n",
       "      <td>Contact</td>\n",
       "      <td>1997</td>\n",
       "      <td>Robert Zemeckis</td>\n",
       "    </tr>\n",
       "    <tr>\n",
       "      <th>2</th>\n",
       "      <td>Parasite</td>\n",
       "      <td>2019</td>\n",
       "      <td>Joon-ho Bong</td>\n",
       "    </tr>\n",
       "  </tbody>\n",
       "</table>\n",
       "</div>"
      ],
      "text/plain": [
       "           title   year               director\n",
       "0  The Godfather   1972   Francis Ford Coppola\n",
       "1        Contact   1997        Robert Zemeckis\n",
       "2       Parasite   2019           Joon-ho Bong"
      ]
     },
     "execution_count": 31,
     "metadata": {},
     "output_type": "execute_result"
    }
   ],
   "source": [
    "# Make a DataFrame object\n",
    "df_movie = pd.DataFrame()\n",
    "df_movie['title'] = lst_title\n",
    "df_movie['year'] = lst_year\n",
    "df_movie['director'] = lst_director\n",
    "\n",
    "df_movie"
   ]
  },
  {
   "cell_type": "code",
   "execution_count": null,
   "id": "ce52d04c-b3db-4ccf-b0a5-5579cb082c59",
   "metadata": {},
   "outputs": [],
   "source": []
  }
 ],
 "metadata": {
  "kernelspec": {
   "display_name": "Python 3",
   "language": "python",
   "name": "python3"
  },
  "language_info": {
   "codemirror_mode": {
    "name": "ipython",
    "version": 3
   },
   "file_extension": ".py",
   "mimetype": "text/x-python",
   "name": "python",
   "nbconvert_exporter": "python",
   "pygments_lexer": "ipython3",
   "version": "3.8.8"
  }
 },
 "nbformat": 4,
 "nbformat_minor": 5
}
