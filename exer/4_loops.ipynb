{
 "cells": [
  {
   "cell_type": "code",
   "execution_count": 3,
   "id": "fdf0ff80-c5fc-4f44-817c-0c3cc8a7e469",
   "metadata": {},
   "outputs": [
    {
     "name": "stdout",
     "output_type": "stream",
     "text": [
      "1\n",
      "2\n",
      "3\n",
      "4\n",
      "5\n",
      "water\n",
      "water\n",
      "water\n",
      "water\n",
      "water\n"
     ]
    }
   ],
   "source": [
    "\"\"\"\n",
    "for loops\n",
    "\"\"\"\n",
    "nums = [1,2,3,4,5]\n",
    "for num in nums:\n",
    "    print(num)\n",
    "# 들여쓰기 안하면 indentantionError 발생 \n",
    "\n",
    "# rnage() ->  n번 만큼 반복할 경우 사용 \n",
    "for i in range(5):\n",
    "    print (\"water\")\n"
   ]
  },
  {
   "cell_type": "code",
   "execution_count": 7,
   "id": "96b0f20f-7044-4811-ba58-b9351baea7bb",
   "metadata": {},
   "outputs": [
    {
     "name": "stdout",
     "output_type": "stream",
     "text": [
      "1\n",
      "5\n",
      "7\n",
      "9\n",
      "aenergy is playing.\n",
      "savage is playing.\n",
      "music is over...\n"
     ]
    }
   ],
   "source": [
    "\"\"\"\n",
    "continue keyword\n",
    "\"\"\"\n",
    "nums = [-6,-3,-1,1,5,7,9]\n",
    "for num in nums:\n",
    "    # if num in negative, we skip it.\n",
    "    if num<0:\n",
    "        continue \n",
    "    print(num)\n",
    "    \n",
    "\"\"\"\n",
    "break keyword\n",
    "\"\"\"\n",
    "music_playlist =['aenergy','savage','music over','makeyoucry','yeppi','iconic','lucid dream'] \n",
    "for playlist in music_playlist:\n",
    "    if playlist == 'music over':\n",
    "        print (\"music is over...\")\n",
    "        break \n",
    "    print (playlist + \" is playing.\")"
   ]
  },
  {
   "cell_type": "code",
   "execution_count": 17,
   "id": "267e9603-9472-4c74-af84-1b8ac487631f",
   "metadata": {},
   "outputs": [
    {
     "name": "stdout",
     "output_type": "stream",
     "text": [
      "[1, 2, 3, 4, 5, 6, 7, 8, 9, 10]\n",
      "재시험을 볼 학생:\n",
      "['지민', '준희']\n"
     ]
    }
   ],
   "source": [
    "\"\"\"\n",
    "list comperhension \n",
    "\"\"\"\n",
    "one_to_ten = [i+1 for i in range(10)]\n",
    "print (one_to_ten)\n",
    "\n",
    "test = [['신지', 'a+'],['채연','a'],['지민','c'],['수현','b'],['나경','b+'],['준희','c']]\n",
    "retest = [student[0] for student in test if student[1] == 'c']\n",
    "print ('재시험을 볼 학생:')\n",
    "print (retest)"
   ]
  },
  {
   "cell_type": "code",
   "execution_count": 21,
   "id": "374e8648-e8f9-4d62-917e-b7586e7c11b8",
   "metadata": {},
   "outputs": [
    {
     "name": "stdout",
     "output_type": "stream",
     "text": [
      "1 X 1 = 1\n",
      "1 X 2 = 2\n",
      "1 X 3 = 3\n",
      "1 X 4 = 4\n",
      "1 X 5 = 5\n",
      "1 X 6 = 6\n",
      "1 X 7 = 7\n",
      "1 X 8 = 8\n",
      "1 X 9 = 9\n",
      "2 X 1 = 2\n",
      "2 X 2 = 4\n",
      "2 X 3 = 6\n",
      "2 X 4 = 8\n",
      "2 X 5 = 10\n",
      "2 X 6 = 12\n",
      "2 X 7 = 14\n",
      "2 X 8 = 16\n",
      "2 X 9 = 18\n",
      "3 X 1 = 3\n",
      "3 X 2 = 6\n",
      "3 X 3 = 9\n",
      "3 X 4 = 12\n",
      "3 X 5 = 15\n",
      "3 X 6 = 18\n",
      "3 X 7 = 21\n",
      "3 X 8 = 24\n",
      "3 X 9 = 27\n",
      "4 X 1 = 4\n",
      "4 X 2 = 8\n",
      "4 X 3 = 12\n",
      "4 X 4 = 16\n",
      "4 X 5 = 20\n",
      "4 X 6 = 24\n",
      "4 X 7 = 28\n",
      "4 X 8 = 32\n",
      "4 X 9 = 36\n",
      "5 X 1 = 5\n",
      "5 X 2 = 10\n",
      "5 X 3 = 15\n",
      "5 X 4 = 20\n",
      "5 X 5 = 25\n",
      "5 X 6 = 30\n",
      "5 X 7 = 35\n",
      "5 X 8 = 40\n",
      "5 X 9 = 45\n",
      "6 X 1 = 6\n",
      "6 X 2 = 12\n",
      "6 X 3 = 18\n",
      "6 X 4 = 24\n",
      "6 X 5 = 30\n",
      "6 X 6 = 36\n",
      "6 X 7 = 42\n",
      "6 X 8 = 48\n",
      "6 X 9 = 54\n",
      "7 X 1 = 7\n",
      "7 X 2 = 14\n",
      "7 X 3 = 21\n",
      "7 X 4 = 28\n",
      "7 X 5 = 35\n",
      "7 X 6 = 42\n",
      "7 X 7 = 49\n",
      "7 X 8 = 56\n",
      "7 X 9 = 63\n",
      "8 X 1 = 8\n",
      "8 X 2 = 16\n",
      "8 X 3 = 24\n",
      "8 X 4 = 32\n",
      "8 X 5 = 40\n",
      "8 X 6 = 48\n",
      "8 X 7 = 56\n",
      "8 X 8 = 64\n",
      "8 X 9 = 72\n",
      "9 X 1 = 9\n",
      "9 X 2 = 18\n",
      "9 X 3 = 27\n",
      "9 X 4 = 36\n",
      "9 X 5 = 45\n",
      "9 X 6 = 54\n",
      "9 X 7 = 63\n",
      "9 X 8 = 72\n",
      "9 X 9 = 81\n"
     ]
    }
   ],
   "source": [
    "\"\"\"\n",
    "nested loops \n",
    "\"\"\"\n",
    "#구구단 \n",
    "one_to_nine = [i+1 for i in range(9)]\n",
    "for i in one_to_nine:\n",
    "    for j in one_to_nine:\n",
    "        print(\"%d X %d = %d\" % (i,j,i*j))"
   ]
  },
  {
   "cell_type": "code",
   "execution_count": 3,
   "id": "8d41cb37-ca2e-4e52-a1a5-4425aa20d358",
   "metadata": {},
   "outputs": [
    {
     "name": "stdout",
     "output_type": "stream",
     "text": [
      "김밥 냠냠\n",
      "유부초밥 냠냠\n",
      "김치 냠냠\n",
      "돈까스 냠냠\n",
      "배불러.. 그만 먹어야지\n",
      "근무중\n",
      "언제 퇴근해?\n",
      "근무중\n",
      "언제 퇴근해?\n",
      "근무중\n",
      "언제 퇴근해?\n",
      "근무중\n",
      "언제 퇴근해?\n",
      "와! 퇴근이다\n"
     ]
    }
   ],
   "source": [
    "\"\"\"\n",
    "while loops \n",
    "\"\"\"\n",
    "#조건문이 true 일떄, 반복문 실행 \n",
    "hungry = True \n",
    "foods_in_basket = ['김밥','유부초밥','김치','돈까스','튀김','컵라면']\n",
    "foods_num = 6 #음식 수 \n",
    "ate_num = 0 #먹은 음식 수 \n",
    "\n",
    "while ate_num < 4:\n",
    "    print (foods_in_basket[ate_num]+ \" 냠냠\")\n",
    "    ate_num += 1\n",
    "    \n",
    "print (\"배불러.. 그만 먹어야지\")\n",
    "\n",
    "\"\"\"\n",
    "infinite loop\n",
    "\"\"\"\n",
    "x=1\n",
    "y=1\n",
    "while x  <5:\n",
    "    print(\"근무중\")\n",
    "    print(\"언제 퇴근해?\")\n",
    "    x += 1    # y += 1을 쓰면 무한루프 생성됨, 종료조건을 쓰지 않았기 떄문 \n",
    "    \n",
    "print(\"와! 퇴근이다\")"
   ]
  },
  {
   "cell_type": "code",
   "execution_count": null,
   "id": "75d16114-7c95-49ae-bb2a-87097be3a2a4",
   "metadata": {},
   "outputs": [],
   "source": []
  }
 ],
 "metadata": {
  "kernelspec": {
   "display_name": "Python 3",
   "language": "python",
   "name": "python3"
  },
  "language_info": {
   "codemirror_mode": {
    "name": "ipython",
    "version": 3
   },
   "file_extension": ".py",
   "mimetype": "text/x-python",
   "name": "python",
   "nbconvert_exporter": "python",
   "pygments_lexer": "ipython3",
   "version": "3.8.8"
  }
 },
 "nbformat": 4,
 "nbformat_minor": 5
}
