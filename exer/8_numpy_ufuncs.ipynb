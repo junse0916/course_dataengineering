{
 "cells": [
  {
   "cell_type": "code",
   "execution_count": 1,
   "id": "9ff35763-ba57-4991-bb94-b59de3ada7ac",
   "metadata": {},
   "outputs": [],
   "source": [
    "import numpy as np"
   ]
  },
  {
   "cell_type": "code",
   "execution_count": 2,
   "id": "e96b1b24-9b66-4fe6-8866-35177c451148",
   "metadata": {},
   "outputs": [
    {
     "name": "stdout",
     "output_type": "stream",
     "text": [
      "[5 1 5 9 5]\n"
     ]
    }
   ],
   "source": [
    "\"\"\"\n",
    "computing reciporocals in loops\n",
    "\"\"\"\n",
    "#functions for computing reciporcals using looping \n",
    "def compute_reciprocals(values):\n",
    "    output = np.empty(len(values))\n",
    "    for i in range(len(values)):\n",
    "        output[i] = 1.0/ values[i]\n",
    "    return output\n",
    "\n",
    "values = np.random.randint(1,10, size = 5)\n",
    "print(values)"
   ]
  },
  {
   "cell_type": "code",
   "execution_count": 3,
   "id": "d802e967-d2d4-482c-9c5b-e1b0f3bf01da",
   "metadata": {},
   "outputs": [
    {
     "name": "stdout",
     "output_type": "stream",
     "text": [
      "7.15 s ± 1.03 s per loop (mean ± std. dev. of 7 runs, 1 loop each)\n"
     ]
    }
   ],
   "source": [
    "\"\"\"\n",
    "comparison : loop vs ufuncs (vectorized)\n",
    "\"\"\"\n",
    "\n",
    "big_array = np.random.randint(1, 100, size = 1000000)\n",
    "#looping on a big array\n",
    "\n",
    "#jupyter magic function \n",
    "%timeit compute_reciprocals(big_array)"
   ]
  },
  {
   "cell_type": "code",
   "execution_count": 4,
   "id": "7d2cc291-9018-4a7f-98d1-919cbd24d4a9",
   "metadata": {},
   "outputs": [
    {
     "name": "stdout",
     "output_type": "stream",
     "text": [
      "9.9 ms ± 1.09 ms per loop (mean ± std. dev. of 7 runs, 100 loops each)\n"
     ]
    }
   ],
   "source": [
    "%timeit 1/ big_array"
   ]
  },
  {
   "cell_type": "code",
   "execution_count": 7,
   "id": "2846f0cc-177e-4535-8953-3e103e8b0a01",
   "metadata": {},
   "outputs": [
    {
     "name": "stdout",
     "output_type": "stream",
     "text": [
      "[ 3 -2  1  1  5] [9 3 5 2 4]\n",
      "[12  1  6  3  9]\n",
      "[[3 0 3 5 0]\n",
      " [2 3 8 1 3]\n",
      " [3 3 7 0 1]]\n",
      "[[ 9  0  9 25  0]\n",
      " [ 4  9 64  1  9]\n",
      " [ 9  9 49  0  1]]\n"
     ]
    }
   ],
   "source": [
    "np.random.seed(0)\n",
    "arr1 = np.random.randint(10, size = 5)\n",
    "arr2 = np.random.randint(10, size = 5)\n",
    "arr3 = np.random.randint(10, size = 5)\n",
    "arr4 = np.random.randint(10, size = 5)\n",
    "arr5 = np.random.randint(10, size = 5)\n",
    "\n",
    "\n",
    "arr1 = arr1 - 2\n",
    "print(arr1, arr2)\n",
    "arr3 = arr1 + arr2\n",
    "print(arr3)\n",
    "arr4 = np.random.randint(10, size=(3,5))\n",
    "print(arr4)\n",
    "arr5 = arr4 **2\n",
    "print(arr5)"
   ]
  },
  {
   "cell_type": "code",
   "execution_count": 15,
   "id": "a72c27fa-4888-4a40-adeb-e5af20a717f5",
   "metadata": {},
   "outputs": [
    {
     "name": "stdout",
     "output_type": "stream",
     "text": [
      "[2 1 0 1 2]\n",
      "[5. 5. 2. 1.]\n"
     ]
    }
   ],
   "source": [
    "\"\"\"\n",
    "ufuns : absolute value\n",
    "\"\"\"\n",
    "x = np.array([-2,-1,0,1,2])\n",
    "print(np.abs(x))\n",
    "\n",
    "y = np.array([3-4j, 4-3j,2+0j, 0+1j])\n",
    "print(np.abs(y))"
   ]
  },
  {
   "cell_type": "code",
   "execution_count": 16,
   "id": "eef5554d-eb97-42d8-aeb1-6d0b6431eb6c",
   "metadata": {},
   "outputs": [
    {
     "name": "stdout",
     "output_type": "stream",
     "text": [
      "[  0.  25.  50.  75. 100.]\n"
     ]
    }
   ],
   "source": [
    "#linspace\n",
    "x = np.linspace(0, 100, 5)\n",
    "print(x)"
   ]
  },
  {
   "cell_type": "code",
   "execution_count": 19,
   "id": "d9cbdbb8-2ce6-4151-9b2a-7e4568a30c80",
   "metadata": {},
   "outputs": [
    {
     "name": "stdout",
     "output_type": "stream",
     "text": [
      "[0.         1.57079633 3.14159265]\n",
      "[0.0000000e+00 1.0000000e+00 1.2246468e-16]\n",
      "[ 1.000000e+00  6.123234e-17 -1.000000e+00]\n",
      "[ 0.00000000e+00  1.63312394e+16 -1.22464680e-16]\n"
     ]
    }
   ],
   "source": [
    "\"\"\"\n",
    "trigonometic functions\n",
    "\"\"\"\n",
    "theta = np.linspace(0, np.pi, 3)\n",
    "print (theta)\n",
    "print(np.sin(theta))\n",
    "print(np.cos(theta))\n",
    "print(np.tan(theta))"
   ]
  },
  {
   "cell_type": "code",
   "execution_count": 20,
   "id": "72d73509-e1d8-4d31-ada6-343a91ebf328",
   "metadata": {},
   "outputs": [
    {
     "name": "stdout",
     "output_type": "stream",
     "text": [
      "10\n",
      "24\n"
     ]
    }
   ],
   "source": [
    "\"\"\"\n",
    "ufuncs : aggregation\n",
    "\"\"\"\n",
    "# reduce()\n",
    "x = np.arange(1,5)\n",
    "aggr = np.add.reduce(x)\n",
    "print(aggr)\n",
    "aggr = np.multiply.reduce(x)\n",
    "print(aggr)"
   ]
  },
  {
   "cell_type": "code",
   "execution_count": 21,
   "id": "6f6805f3-cb2f-4b1a-8585-dd79b30993a0",
   "metadata": {},
   "outputs": [
    {
     "name": "stdout",
     "output_type": "stream",
     "text": [
      "[1 2 3 4]\n",
      "[ 1  3  6 10]\n",
      "[ 1  2  6 24]\n"
     ]
    }
   ],
   "source": [
    "#accumulate()\n",
    "print (x)\n",
    "accum = np.add.accumulate(x)\n",
    "print(accum)\n",
    "accum = np.multiply.accumulate(x)\n",
    "print(accum)"
   ]
  },
  {
   "cell_type": "code",
   "execution_count": 22,
   "id": "bb0847ce-83b5-4e37-9aa1-eb30aa43a4f8",
   "metadata": {},
   "outputs": [
    {
     "name": "stdout",
     "output_type": "stream",
     "text": [
      "565 ms ± 104 ms per loop (mean ± std. dev. of 7 runs, 1 loop each)\n"
     ]
    }
   ],
   "source": [
    "#np.sum()\n",
    "np.random.seed(0)\n",
    "arr = np.random.rand(1000000)  # rand(): creat 0~1 real numbers\n",
    "np.sum(arr)\n",
    "\n",
    "%timeit sum(arr)"
   ]
  },
  {
   "cell_type": "code",
   "execution_count": 23,
   "id": "49e00e3b-662d-4775-8484-c2b7949e479d",
   "metadata": {},
   "outputs": [
    {
     "name": "stdout",
     "output_type": "stream",
     "text": [
      "5.02 ms ± 739 µs per loop (mean ± std. dev. of 7 runs, 100 loops each)\n"
     ]
    }
   ],
   "source": [
    "%timeit np.sum(arr)  # np.sum()이 파이썬 내장함수 sum()보다 훨씬 빠름 "
   ]
  },
  {
   "cell_type": "code",
   "execution_count": 26,
   "id": "05bab0e8-1b3f-40a2-a8b0-b693388cc36f",
   "metadata": {},
   "outputs": [
    {
     "name": "stdout",
     "output_type": "stream",
     "text": [
      "max =  0.9999997207656334\n",
      "min =  7.071203171893359e-07\n",
      "mean =  0.5003876981207729\n",
      "median =  0.5008080231177152\n",
      "percentile =  0.5008080231177152\n",
      "False\n",
      "True\n"
     ]
    }
   ],
   "source": [
    "#other aggregation function \n",
    "\n",
    "print(\"max = \", np.max(arr))\n",
    "print(\"min = \", np.min(arr))\n",
    "print(\"mean = \", np.mean(arr))\n",
    "print(\"median = \", np.median(arr))\n",
    "print(\"percentile = \", np.percentile(arr, 50))\n",
    "\n",
    "print(np.any(arr>1))\n",
    "print(np.all(arr>0))\n"
   ]
  },
  {
   "cell_type": "code",
   "execution_count": 27,
   "id": "82d839f8-0149-4c04-9a25-d4f2db28a253",
   "metadata": {},
   "outputs": [
    {
     "name": "stdout",
     "output_type": "stream",
     "text": [
      "[[44 47 64 67]\n",
      " [67  9 83 21]\n",
      " [36 87 70 88]]\n",
      "[147 143 217 176]\n",
      "[222 180 281]\n"
     ]
    }
   ],
   "source": [
    "#multi dimensional aggregates\n",
    "\n",
    "np.random.seed(0)\n",
    "arr = np.random.randint(100, size=(3,4))\n",
    "print(arr)\n",
    "print(np.sum(arr, axis=0))\n",
    "print(np.sum(arr, axis=1))"
   ]
  },
  {
   "cell_type": "code",
   "execution_count": null,
   "id": "0116a1f5-d823-4640-b747-57fc8e866bba",
   "metadata": {},
   "outputs": [],
   "source": []
  }
 ],
 "metadata": {
  "kernelspec": {
   "display_name": "Python 3",
   "language": "python",
   "name": "python3"
  },
  "language_info": {
   "codemirror_mode": {
    "name": "ipython",
    "version": 3
   },
   "file_extension": ".py",
   "mimetype": "text/x-python",
   "name": "python",
   "nbconvert_exporter": "python",
   "pygments_lexer": "ipython3",
   "version": "3.8.8"
  }
 },
 "nbformat": 4,
 "nbformat_minor": 5
}
